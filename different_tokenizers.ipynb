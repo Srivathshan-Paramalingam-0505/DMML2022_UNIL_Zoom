{
  "cells": [
    {
      "cell_type": "markdown",
      "metadata": {
        "id": "view-in-github",
        "colab_type": "text"
      },
      "source": [
        "<a href=\"https://colab.research.google.com/github/Srivathshan-Paramalingam-0505/Team_zoom_coding_challenge/blob/main/different_tokenizers.ipynb\" target=\"_parent\"><img src=\"https://colab.research.google.com/assets/colab-badge.svg\" alt=\"Open In Colab\"/></a>"
      ]
    },
    {
      "cell_type": "markdown",
      "metadata": {
        "id": "FY3SEbvKGI8p"
      },
      "source": [
        "##<b>Context</b>\n",
        "To be able to computer text on classifier models, we are going to vectorize it,allowing algorithms to learn from our data and predict a new set of sentences with the best accuracy possible. To maximize our chance, we will tune our models the fittest way."
      ]
    },
    {
      "cell_type": "markdown",
      "source": [
        "##<b>Libraries</b>\n",
        "Below are the libraries we will use for either cleaning or training data, or even displaying different graphical ways to interpret our results."
      ],
      "metadata": {
        "id": "4m5QYjrCAOfb"
      }
    },
    {
      "cell_type": "code",
      "execution_count": null,
      "metadata": {
        "id": "L8x8s7T2GEK6",
        "colab": {
          "base_uri": "https://localhost:8080/"
        },
        "outputId": "71a43c0a-7963-4406-e3ad-c9b0f3eab4d6"
      },
      "outputs": [
        {
          "output_type": "stream",
          "name": "stderr",
          "text": [
            "[nltk_data] Downloading package stopwords to /root/nltk_data...\n",
            "[nltk_data]   Package stopwords is already up-to-date!\n",
            "[nltk_data] Downloading package punkt to /root/nltk_data...\n",
            "[nltk_data]   Package punkt is already up-to-date!\n"
          ]
        }
      ],
      "source": [
        "#Import packages to create/modify DataFrames\n",
        "import pandas as pd \n",
        "\n",
        "#Import packages to tokenize and clean data\n",
        "from sklearn.preprocessing import OrdinalEncoder, OneHotEncoder, LabelEncoder\n",
        "import spacy\n",
        "from spacy import displacy\n",
        "import re\n",
        "import nltk\n",
        "from nltk.corpus import stopwords\n",
        "from nltk import word_tokenize\n",
        "from nltk.tokenize import sent_tokenize\n",
        "nltk.download('stopwords')\n",
        "nltk.download('punkt')\n",
        "\n",
        "#Import packages to display information on charts, table and other graphical elements\n",
        "%matplotlib inline\n",
        "import matplotlib.pyplot as plt\n",
        "import seaborn as sns\n",
        "sns.set_style(\"whitegrid\")\n",
        "\n",
        "#Import packages to vectorize and train data through models\n",
        "\n",
        "from sklearn.linear_model import LogisticRegression, LogisticRegressionCV\n",
        "from sklearn.ensemble import RandomForestClassifier\n",
        "from sklearn.svm import SVC\n",
        "from sklearn.model_selection import train_test_split\n",
        "from sklearn.metrics import confusion_matrix, accuracy_score, precision_score, recall_score, f1_score\n",
        "from sklearn. preprocessing import StandardScaler\n",
        "from sklearn.feature_extraction.text import CountVectorizer, TfidfVectorizer\n",
        "from sklearn.pipeline import Pipeline\n",
        "\n",
        "#Other imports\n",
        "import numpy as np\n",
        "from google.colab import drive\n",
        "from google.colab import files"
      ]
    },
    {
      "cell_type": "markdown",
      "source": [
        "##<b>Import our data</b>\n",
        "First, we will download the data we need from our Google Drive Folder"
      ],
      "metadata": {
        "id": "8TBj-dZoEQER"
      }
    },
    {
      "cell_type": "code",
      "execution_count": null,
      "metadata": {
        "colab": {
          "base_uri": "https://localhost:8080/"
        },
        "id": "sAQelL8nGqH7",
        "outputId": "145cb296-0039-4dcb-d576-dc521b275235"
      },
      "outputs": [
        {
          "output_type": "stream",
          "name": "stdout",
          "text": [
            "Mounted at /content/drive\n"
          ]
        }
      ],
      "source": [
        "#Load the dataset using google drive mount (inspired by the challenge notebook)\n",
        "#Mount your Google Drive\n",
        "drive.mount('/content/drive', force_remount=True)"
      ]
    },
    {
      "cell_type": "code",
      "execution_count": null,
      "metadata": {
        "id": "C2lIqZhiHHFA"
      },
      "outputs": [],
      "source": [
        "#let's load the dataset\n",
        "\n",
        "df = pd.read_csv('drive/MyDrive/Coding_Challenge/training_data.csv')"
      ]
    },
    {
      "cell_type": "code",
      "source": [
        "df_pred = pd.read_csv('drive/MyDrive/Coding_Challenge/unlabelled_test_data.csv')"
      ],
      "metadata": {
        "id": "g0l4ckgbfAl9"
      },
      "execution_count": null,
      "outputs": []
    },
    {
      "cell_type": "markdown",
      "source": [
        "* Here is a subset of our training data"
      ],
      "metadata": {
        "id": "0D2TM1u8Fm4j"
      }
    },
    {
      "cell_type": "code",
      "source": [
        "df.head(5)"
      ],
      "metadata": {
        "colab": {
          "base_uri": "https://localhost:8080/",
          "height": 206
        },
        "id": "LZBfmrNiFvS-",
        "outputId": "74df8416-5d05-4fd5-f51f-b2222734165d"
      },
      "execution_count": null,
      "outputs": [
        {
          "output_type": "execute_result",
          "data": {
            "text/plain": [
              "   id                                           sentence difficulty\n",
              "0   0  Les coûts kilométriques réels peuvent diverger...         C1\n",
              "1   1  Le bleu, c'est ma couleur préférée mais je n'a...         A1\n",
              "2   2  Le test de niveau en français est sur le site ...         A1\n",
              "3   3           Est-ce que ton mari est aussi de Boston?         A1\n",
              "4   4  Dans les écoles de commerce, dans les couloirs...         B1"
            ],
            "text/html": [
              "\n",
              "  <div id=\"df-62be2c99-57e2-445f-8f18-eabf91cbf008\">\n",
              "    <div class=\"colab-df-container\">\n",
              "      <div>\n",
              "<style scoped>\n",
              "    .dataframe tbody tr th:only-of-type {\n",
              "        vertical-align: middle;\n",
              "    }\n",
              "\n",
              "    .dataframe tbody tr th {\n",
              "        vertical-align: top;\n",
              "    }\n",
              "\n",
              "    .dataframe thead th {\n",
              "        text-align: right;\n",
              "    }\n",
              "</style>\n",
              "<table border=\"1\" class=\"dataframe\">\n",
              "  <thead>\n",
              "    <tr style=\"text-align: right;\">\n",
              "      <th></th>\n",
              "      <th>id</th>\n",
              "      <th>sentence</th>\n",
              "      <th>difficulty</th>\n",
              "    </tr>\n",
              "  </thead>\n",
              "  <tbody>\n",
              "    <tr>\n",
              "      <th>0</th>\n",
              "      <td>0</td>\n",
              "      <td>Les coûts kilométriques réels peuvent diverger...</td>\n",
              "      <td>C1</td>\n",
              "    </tr>\n",
              "    <tr>\n",
              "      <th>1</th>\n",
              "      <td>1</td>\n",
              "      <td>Le bleu, c'est ma couleur préférée mais je n'a...</td>\n",
              "      <td>A1</td>\n",
              "    </tr>\n",
              "    <tr>\n",
              "      <th>2</th>\n",
              "      <td>2</td>\n",
              "      <td>Le test de niveau en français est sur le site ...</td>\n",
              "      <td>A1</td>\n",
              "    </tr>\n",
              "    <tr>\n",
              "      <th>3</th>\n",
              "      <td>3</td>\n",
              "      <td>Est-ce que ton mari est aussi de Boston?</td>\n",
              "      <td>A1</td>\n",
              "    </tr>\n",
              "    <tr>\n",
              "      <th>4</th>\n",
              "      <td>4</td>\n",
              "      <td>Dans les écoles de commerce, dans les couloirs...</td>\n",
              "      <td>B1</td>\n",
              "    </tr>\n",
              "  </tbody>\n",
              "</table>\n",
              "</div>\n",
              "      <button class=\"colab-df-convert\" onclick=\"convertToInteractive('df-62be2c99-57e2-445f-8f18-eabf91cbf008')\"\n",
              "              title=\"Convert this dataframe to an interactive table.\"\n",
              "              style=\"display:none;\">\n",
              "        \n",
              "  <svg xmlns=\"http://www.w3.org/2000/svg\" height=\"24px\"viewBox=\"0 0 24 24\"\n",
              "       width=\"24px\">\n",
              "    <path d=\"M0 0h24v24H0V0z\" fill=\"none\"/>\n",
              "    <path d=\"M18.56 5.44l.94 2.06.94-2.06 2.06-.94-2.06-.94-.94-2.06-.94 2.06-2.06.94zm-11 1L8.5 8.5l.94-2.06 2.06-.94-2.06-.94L8.5 2.5l-.94 2.06-2.06.94zm10 10l.94 2.06.94-2.06 2.06-.94-2.06-.94-.94-2.06-.94 2.06-2.06.94z\"/><path d=\"M17.41 7.96l-1.37-1.37c-.4-.4-.92-.59-1.43-.59-.52 0-1.04.2-1.43.59L10.3 9.45l-7.72 7.72c-.78.78-.78 2.05 0 2.83L4 21.41c.39.39.9.59 1.41.59.51 0 1.02-.2 1.41-.59l7.78-7.78 2.81-2.81c.8-.78.8-2.07 0-2.86zM5.41 20L4 18.59l7.72-7.72 1.47 1.35L5.41 20z\"/>\n",
              "  </svg>\n",
              "      </button>\n",
              "      \n",
              "  <style>\n",
              "    .colab-df-container {\n",
              "      display:flex;\n",
              "      flex-wrap:wrap;\n",
              "      gap: 12px;\n",
              "    }\n",
              "\n",
              "    .colab-df-convert {\n",
              "      background-color: #E8F0FE;\n",
              "      border: none;\n",
              "      border-radius: 50%;\n",
              "      cursor: pointer;\n",
              "      display: none;\n",
              "      fill: #1967D2;\n",
              "      height: 32px;\n",
              "      padding: 0 0 0 0;\n",
              "      width: 32px;\n",
              "    }\n",
              "\n",
              "    .colab-df-convert:hover {\n",
              "      background-color: #E2EBFA;\n",
              "      box-shadow: 0px 1px 2px rgba(60, 64, 67, 0.3), 0px 1px 3px 1px rgba(60, 64, 67, 0.15);\n",
              "      fill: #174EA6;\n",
              "    }\n",
              "\n",
              "    [theme=dark] .colab-df-convert {\n",
              "      background-color: #3B4455;\n",
              "      fill: #D2E3FC;\n",
              "    }\n",
              "\n",
              "    [theme=dark] .colab-df-convert:hover {\n",
              "      background-color: #434B5C;\n",
              "      box-shadow: 0px 1px 3px 1px rgba(0, 0, 0, 0.15);\n",
              "      filter: drop-shadow(0px 1px 2px rgba(0, 0, 0, 0.3));\n",
              "      fill: #FFFFFF;\n",
              "    }\n",
              "  </style>\n",
              "\n",
              "      <script>\n",
              "        const buttonEl =\n",
              "          document.querySelector('#df-62be2c99-57e2-445f-8f18-eabf91cbf008 button.colab-df-convert');\n",
              "        buttonEl.style.display =\n",
              "          google.colab.kernel.accessAllowed ? 'block' : 'none';\n",
              "\n",
              "        async function convertToInteractive(key) {\n",
              "          const element = document.querySelector('#df-62be2c99-57e2-445f-8f18-eabf91cbf008');\n",
              "          const dataTable =\n",
              "            await google.colab.kernel.invokeFunction('convertToInteractive',\n",
              "                                                     [key], {});\n",
              "          if (!dataTable) return;\n",
              "\n",
              "          const docLinkHtml = 'Like what you see? Visit the ' +\n",
              "            '<a target=\"_blank\" href=https://colab.research.google.com/notebooks/data_table.ipynb>data table notebook</a>'\n",
              "            + ' to learn more about interactive tables.';\n",
              "          element.innerHTML = '';\n",
              "          dataTable['output_type'] = 'display_data';\n",
              "          await google.colab.output.renderOutput(dataTable, element);\n",
              "          const docLink = document.createElement('div');\n",
              "          docLink.innerHTML = docLinkHtml;\n",
              "          element.appendChild(docLink);\n",
              "        }\n",
              "      </script>\n",
              "    </div>\n",
              "  </div>\n",
              "  "
            ]
          },
          "metadata": {},
          "execution_count": 72
        }
      ]
    },
    {
      "cell_type": "markdown",
      "source": [
        "* And here is a sample of the data we are aiming to classify"
      ],
      "metadata": {
        "id": "OAjCo3Z9GGiQ"
      }
    },
    {
      "cell_type": "code",
      "source": [
        "df_pred.head(5)"
      ],
      "metadata": {
        "colab": {
          "base_uri": "https://localhost:8080/",
          "height": 206
        },
        "id": "u-K15h-FGE4L",
        "outputId": "9ce13177-0c95-4ee7-a1b9-c2069d3aeed7"
      },
      "execution_count": null,
      "outputs": [
        {
          "output_type": "execute_result",
          "data": {
            "text/plain": [
              "   id                                           sentence\n",
              "0   0  Nous dûmes nous excuser des propos que nous eû...\n",
              "1   1  Vous ne pouvez pas savoir le plaisir que j'ai ...\n",
              "2   2  Et, paradoxalement, boire froid n'est pas la b...\n",
              "3   3  Ce n'est pas étonnant, car c'est une saison my...\n",
              "4   4  Le corps de Golo lui-même, d'une essence aussi..."
            ],
            "text/html": [
              "\n",
              "  <div id=\"df-6a1afa1f-9205-4717-bd99-e493bb5da5d7\">\n",
              "    <div class=\"colab-df-container\">\n",
              "      <div>\n",
              "<style scoped>\n",
              "    .dataframe tbody tr th:only-of-type {\n",
              "        vertical-align: middle;\n",
              "    }\n",
              "\n",
              "    .dataframe tbody tr th {\n",
              "        vertical-align: top;\n",
              "    }\n",
              "\n",
              "    .dataframe thead th {\n",
              "        text-align: right;\n",
              "    }\n",
              "</style>\n",
              "<table border=\"1\" class=\"dataframe\">\n",
              "  <thead>\n",
              "    <tr style=\"text-align: right;\">\n",
              "      <th></th>\n",
              "      <th>id</th>\n",
              "      <th>sentence</th>\n",
              "    </tr>\n",
              "  </thead>\n",
              "  <tbody>\n",
              "    <tr>\n",
              "      <th>0</th>\n",
              "      <td>0</td>\n",
              "      <td>Nous dûmes nous excuser des propos que nous eû...</td>\n",
              "    </tr>\n",
              "    <tr>\n",
              "      <th>1</th>\n",
              "      <td>1</td>\n",
              "      <td>Vous ne pouvez pas savoir le plaisir que j'ai ...</td>\n",
              "    </tr>\n",
              "    <tr>\n",
              "      <th>2</th>\n",
              "      <td>2</td>\n",
              "      <td>Et, paradoxalement, boire froid n'est pas la b...</td>\n",
              "    </tr>\n",
              "    <tr>\n",
              "      <th>3</th>\n",
              "      <td>3</td>\n",
              "      <td>Ce n'est pas étonnant, car c'est une saison my...</td>\n",
              "    </tr>\n",
              "    <tr>\n",
              "      <th>4</th>\n",
              "      <td>4</td>\n",
              "      <td>Le corps de Golo lui-même, d'une essence aussi...</td>\n",
              "    </tr>\n",
              "  </tbody>\n",
              "</table>\n",
              "</div>\n",
              "      <button class=\"colab-df-convert\" onclick=\"convertToInteractive('df-6a1afa1f-9205-4717-bd99-e493bb5da5d7')\"\n",
              "              title=\"Convert this dataframe to an interactive table.\"\n",
              "              style=\"display:none;\">\n",
              "        \n",
              "  <svg xmlns=\"http://www.w3.org/2000/svg\" height=\"24px\"viewBox=\"0 0 24 24\"\n",
              "       width=\"24px\">\n",
              "    <path d=\"M0 0h24v24H0V0z\" fill=\"none\"/>\n",
              "    <path d=\"M18.56 5.44l.94 2.06.94-2.06 2.06-.94-2.06-.94-.94-2.06-.94 2.06-2.06.94zm-11 1L8.5 8.5l.94-2.06 2.06-.94-2.06-.94L8.5 2.5l-.94 2.06-2.06.94zm10 10l.94 2.06.94-2.06 2.06-.94-2.06-.94-.94-2.06-.94 2.06-2.06.94z\"/><path d=\"M17.41 7.96l-1.37-1.37c-.4-.4-.92-.59-1.43-.59-.52 0-1.04.2-1.43.59L10.3 9.45l-7.72 7.72c-.78.78-.78 2.05 0 2.83L4 21.41c.39.39.9.59 1.41.59.51 0 1.02-.2 1.41-.59l7.78-7.78 2.81-2.81c.8-.78.8-2.07 0-2.86zM5.41 20L4 18.59l7.72-7.72 1.47 1.35L5.41 20z\"/>\n",
              "  </svg>\n",
              "      </button>\n",
              "      \n",
              "  <style>\n",
              "    .colab-df-container {\n",
              "      display:flex;\n",
              "      flex-wrap:wrap;\n",
              "      gap: 12px;\n",
              "    }\n",
              "\n",
              "    .colab-df-convert {\n",
              "      background-color: #E8F0FE;\n",
              "      border: none;\n",
              "      border-radius: 50%;\n",
              "      cursor: pointer;\n",
              "      display: none;\n",
              "      fill: #1967D2;\n",
              "      height: 32px;\n",
              "      padding: 0 0 0 0;\n",
              "      width: 32px;\n",
              "    }\n",
              "\n",
              "    .colab-df-convert:hover {\n",
              "      background-color: #E2EBFA;\n",
              "      box-shadow: 0px 1px 2px rgba(60, 64, 67, 0.3), 0px 1px 3px 1px rgba(60, 64, 67, 0.15);\n",
              "      fill: #174EA6;\n",
              "    }\n",
              "\n",
              "    [theme=dark] .colab-df-convert {\n",
              "      background-color: #3B4455;\n",
              "      fill: #D2E3FC;\n",
              "    }\n",
              "\n",
              "    [theme=dark] .colab-df-convert:hover {\n",
              "      background-color: #434B5C;\n",
              "      box-shadow: 0px 1px 3px 1px rgba(0, 0, 0, 0.15);\n",
              "      filter: drop-shadow(0px 1px 2px rgba(0, 0, 0, 0.3));\n",
              "      fill: #FFFFFF;\n",
              "    }\n",
              "  </style>\n",
              "\n",
              "      <script>\n",
              "        const buttonEl =\n",
              "          document.querySelector('#df-6a1afa1f-9205-4717-bd99-e493bb5da5d7 button.colab-df-convert');\n",
              "        buttonEl.style.display =\n",
              "          google.colab.kernel.accessAllowed ? 'block' : 'none';\n",
              "\n",
              "        async function convertToInteractive(key) {\n",
              "          const element = document.querySelector('#df-6a1afa1f-9205-4717-bd99-e493bb5da5d7');\n",
              "          const dataTable =\n",
              "            await google.colab.kernel.invokeFunction('convertToInteractive',\n",
              "                                                     [key], {});\n",
              "          if (!dataTable) return;\n",
              "\n",
              "          const docLinkHtml = 'Like what you see? Visit the ' +\n",
              "            '<a target=\"_blank\" href=https://colab.research.google.com/notebooks/data_table.ipynb>data table notebook</a>'\n",
              "            + ' to learn more about interactive tables.';\n",
              "          element.innerHTML = '';\n",
              "          dataTable['output_type'] = 'display_data';\n",
              "          await google.colab.output.renderOutput(dataTable, element);\n",
              "          const docLink = document.createElement('div');\n",
              "          docLink.innerHTML = docLinkHtml;\n",
              "          element.appendChild(docLink);\n",
              "        }\n",
              "      </script>\n",
              "    </div>\n",
              "  </div>\n",
              "  "
            ]
          },
          "metadata": {},
          "execution_count": 73
        }
      ]
    },
    {
      "cell_type": "markdown",
      "source": [
        "- Here is the base rate of our DataFrame"
      ],
      "metadata": {
        "id": "lwcA6h3yI_Zn"
      }
    },
    {
      "cell_type": "code",
      "source": [
        "base_rate = (df['difficulty'].value_counts() / len(df)).max()\n",
        "base_rate"
      ],
      "metadata": {
        "colab": {
          "base_uri": "https://localhost:8080/"
        },
        "id": "450wrjsrJO3Y",
        "outputId": "62567fd2-d1c9-4fb8-c093-7b5cb68d58c0"
      },
      "execution_count": null,
      "outputs": [
        {
          "output_type": "execute_result",
          "data": {
            "text/plain": [
              "0.169375"
            ]
          },
          "metadata": {},
          "execution_count": 74
        }
      ]
    },
    {
      "cell_type": "markdown",
      "source": [
        ">Now, we will set our dependent (y) and independent (X) variables\n",
        "\n"
      ],
      "metadata": {
        "id": "OuRXb_R_HmEI"
      }
    },
    {
      "cell_type": "code",
      "execution_count": null,
      "metadata": {
        "id": "Kwpx6lBeHUND"
      },
      "outputs": [],
      "source": [
        "#Splitting the data\n",
        "X = df['sentence']\n",
        "y = df['difficulty']\n",
        "X_train, X_test, y_train, y_test = train_test_split(X, y, test_size = 0.2, random_state = 0)"
      ]
    },
    {
      "cell_type": "markdown",
      "source": [
        "Then we will apply a linear regression as a classifier but first use the vector \"tfidf\" to make it possible since the model requires numeric values"
      ],
      "metadata": {
        "id": "t4oM1qXrIRBy"
      }
    },
    {
      "cell_type": "code",
      "execution_count": null,
      "metadata": {
        "id": "7iNF3TMhHa5F"
      },
      "outputs": [],
      "source": [
        "#Define a model AND apply vectorizer\n",
        "LR = LogisticRegression(penalty='l2', dual=False, tol=0.001, C=1.0, fit_intercept=True, intercept_scaling=1, class_weight=None, random_state=None, solver='newton-cg', max_iter=1000, multi_class='auto', verbose=0, warm_start=False, n_jobs=None, l1_ratio=None)"
      ]
    },
    {
      "cell_type": "code",
      "execution_count": null,
      "metadata": {
        "colab": {
          "base_uri": "https://localhost:8080/"
        },
        "id": "gO1iTyStIBHU",
        "outputId": "90bf7455-d441-48ea-89b4-ec9fe3172823"
      },
      "outputs": [
        {
          "output_type": "execute_result",
          "data": {
            "text/plain": [
              "Pipeline(steps=[('vectorizer', TfidfVectorizer()),\n",
              "                ('classifier',\n",
              "                 LogisticRegression(max_iter=1000, solver='newton-cg',\n",
              "                                    tol=0.001))])"
            ]
          },
          "metadata": {},
          "execution_count": 77
        }
      ],
      "source": [
        "# Using default tokenizer in TfidfVectorizer\n",
        "tfidf = TfidfVectorizer(ngram_range=(1,1))\n",
        "# Create a pipeline\n",
        "pipe = Pipeline([('vectorizer', tfidf),\n",
        "                 ('classifier', LR)])\n",
        "\n",
        "# Fit model on training set\n",
        "pipe.fit(X_train, y_train)"
      ]
    },
    {
      "cell_type": "markdown",
      "source": [
        "Here we define a function we will use throughout the whole notebook since it allows to display metrics about our result"
      ],
      "metadata": {
        "id": "ATCcOXPRJEuw"
      }
    },
    {
      "cell_type": "code",
      "execution_count": null,
      "metadata": {
        "id": "dqGmr5FEIFWi"
      },
      "outputs": [],
      "source": [
        "#function to calculate metrics of the models\n",
        "def models_metrics (true, pred):\n",
        "  precision = precision_score(true, pred, average='weighted')\n",
        "  recall = recall_score(true, pred, average='weighted')\n",
        "  f1 = f1_score(true, pred, average='weighted')\n",
        "  accuracy = accuracy_score(true,pred)\n",
        "  conf_mat = confusion_matrix(true, pred)\n",
        "  fig, ax = plt.subplots(figsize=(5,5))\n",
        "  sns.heatmap(conf_mat, annot=True, fmt='d')\n",
        "  plt.ylabel('Actual')\n",
        "  plt.xlabel('Predicted')\n",
        "  plt.show()\n",
        "  print(f\"CONFUSION MATRIX:\\n{confusion_matrix(true, pred,)}\")\n",
        "  print(f\"ACCURACY SCORE:\\n{accuracy:.4f}\")\n",
        "  print(f\"CLASSIFICATION REPORT:\\n\\tPrecision: {precision:.4f}\\n\\tRecall: {recall:.4f}\\n\\tF1_Score: {f1:.4f}\")\n",
        "  return precision, recall, f1, accuracy"
      ]
    },
    {
      "cell_type": "code",
      "execution_count": null,
      "metadata": {
        "id": "24ap7CZaILBr"
      },
      "outputs": [],
      "source": [
        "#predict on test split\n",
        "y_pred_lr = pipe.predict(X_test)"
      ]
    },
    {
      "cell_type": "markdown",
      "source": [
        "- The confusion Matrix displays true values (y-axis) compared to predicted values (x-axis)"
      ],
      "metadata": {
        "id": "Py5Rczp1JU38"
      }
    },
    {
      "cell_type": "code",
      "execution_count": null,
      "metadata": {
        "colab": {
          "base_uri": "https://localhost:8080/",
          "height": 571
        },
        "id": "DTL6ZuGYIQOm",
        "outputId": "bebab0dc-4568-4e96-bddd-07b466c9f9db"
      },
      "outputs": [
        {
          "output_type": "display_data",
          "data": {
            "text/plain": [
              "<Figure size 360x360 with 2 Axes>"
            ],
            "image/png": "[encoded data removed]"
          },
          "metadata": {}
        },
        {
          "output_type": "stream",
          "name": "stdout",
          "text": [
            "CONFUSION MATRIX:\n",
            "[[93 31 21 10  4  2]\n",
            " [54 60 30  6  6  8]\n",
            " [12 38 64 17  9 20]\n",
            " [ 6  6 15 66 27 24]\n",
            " [ 4  4 10 37 73 45]\n",
            " [ 7  8  8 19 24 92]]\n",
            "ACCURACY SCORE:\n",
            "0.4667\n",
            "CLASSIFICATION REPORT:\n",
            "\tPrecision: 0.4656\n",
            "\tRecall: 0.4667\n",
            "\tF1_Score: 0.4640\n"
          ]
        }
      ],
      "source": [
        "#get the metrics\n",
        "precision_lr, recall_lr, f1_lr, accuracy_lr = models_metrics(y_test,y_pred_lr)"
      ]
    },
    {
      "cell_type": "markdown",
      "source": [
        "So here we are interested in our accuracy score and as we can see, it is almost predicted with 50% precision"
      ],
      "metadata": {
        "id": "H88mYSioKj-v"
      }
    },
    {
      "cell_type": "markdown",
      "source": [
        "Now, let's try different tokenization method, with different models"
      ],
      "metadata": {
        "id": "NnIKhcvjsUO_"
      }
    },
    {
      "cell_type": "code",
      "source": [
        "#Import stop_word of french language\n",
        "french_stopwords = set(stopwords.words('french'))\n",
        "filtre_stopfr =  lambda text: [token for token in text if token.lower() not in french_stopwords]"
      ],
      "metadata": {
        "id": "Z7q-6A5a1sJ8"
      },
      "execution_count": null,
      "outputs": []
    },
    {
      "cell_type": "code",
      "source": [
        "#Tokenize, then keep only non stop words\n",
        "filtre_stopfr(word_tokenize(X.loc[25], language=\"french\") )"
      ],
      "metadata": {
        "id": "KjuXmS-S21AZ",
        "colab": {
          "base_uri": "https://localhost:8080/"
        },
        "outputId": "8c0e6505-01c9-4530-ec06-127c5c845519"
      },
      "execution_count": null,
      "outputs": [
        {
          "output_type": "execute_result",
          "data": {
            "text/plain": [
              "[\"Qu'est-ce\",\n",
              " 'peut',\n",
              " 'bien',\n",
              " 'poser',\n",
              " 'problème',\n",
              " 'petits',\n",
              " 'livrets',\n",
              " 'pourtant',\n",
              " 'plutôt',\n",
              " 'attractifs',\n",
              " 'seuls',\n",
              " '23',\n",
              " ',',\n",
              " '4',\n",
              " '%',\n",
              " 'leurs',\n",
              " 'détenteurs',\n",
              " 'arrivent',\n",
              " 'bout',\n",
              " '?']"
            ]
          },
          "metadata": {},
          "execution_count": 82
        }
      ]
    },
    {
      "cell_type": "code",
      "source": [
        "#Spacy contains a lot of useful methods to clean data from text\n",
        "!python -m spacy download fr_core_news_sm\n",
        "sp = spacy.load('fr_core_news_sm')"
      ],
      "metadata": {
        "id": "ZkZtmVsrjwn1",
        "colab": {
          "base_uri": "https://localhost:8080/"
        },
        "outputId": "c2f80624-e2d0-4693-c3ce-dc73ac74c87f"
      },
      "execution_count": null,
      "outputs": [
        {
          "output_type": "stream",
          "name": "stdout",
          "text": [
            "Looking in indexes: https://pypi.org/simple, https://us-python.pkg.dev/colab-wheels/public/simple/\n",
            "Collecting fr-core-news-sm==3.4.0\n",
            "  Downloading https://github.com/explosion/spacy-models/releases/download/fr_core_news_sm-3.4.0/fr_core_news_sm-3.4.0-py3-none-any.whl (16.3 MB)\n",
            "\u001b[K     |████████████████████████████████| 16.3 MB 24.6 MB/s \n",
            "\u001b[?25hRequirement already satisfied: spacy<3.5.0,>=3.4.0 in /usr/local/lib/python3.8/dist-packages (from fr-core-news-sm==3.4.0) (3.4.4)\n",
            "Requirement already satisfied: packaging>=20.0 in /usr/local/lib/python3.8/dist-packages (from spacy<3.5.0,>=3.4.0->fr-core-news-sm==3.4.0) (21.3)\n",
            "Requirement already satisfied: thinc<8.2.0,>=8.1.0 in /usr/local/lib/python3.8/dist-packages (from spacy<3.5.0,>=3.4.0->fr-core-news-sm==3.4.0) (8.1.5)\n",
            "Requirement already satisfied: spacy-loggers<2.0.0,>=1.0.0 in /usr/local/lib/python3.8/dist-packages (from spacy<3.5.0,>=3.4.0->fr-core-news-sm==3.4.0) (1.0.4)\n",
            "Requirement already satisfied: requests<3.0.0,>=2.13.0 in /usr/local/lib/python3.8/dist-packages (from spacy<3.5.0,>=3.4.0->fr-core-news-sm==3.4.0) (2.23.0)\n",
            "Requirement already satisfied: murmurhash<1.1.0,>=0.28.0 in /usr/local/lib/python3.8/dist-packages (from spacy<3.5.0,>=3.4.0->fr-core-news-sm==3.4.0) (1.0.9)\n",
            "Requirement already satisfied: tqdm<5.0.0,>=4.38.0 in /usr/local/lib/python3.8/dist-packages (from spacy<3.5.0,>=3.4.0->fr-core-news-sm==3.4.0) (4.64.1)\n",
            "Requirement already satisfied: numpy>=1.15.0 in /usr/local/lib/python3.8/dist-packages (from spacy<3.5.0,>=3.4.0->fr-core-news-sm==3.4.0) (1.21.6)\n",
            "Requirement already satisfied: setuptools in /usr/local/lib/python3.8/dist-packages (from spacy<3.5.0,>=3.4.0->fr-core-news-sm==3.4.0) (57.4.0)\n",
            "Requirement already satisfied: pathy>=0.3.5 in /usr/local/lib/python3.8/dist-packages (from spacy<3.5.0,>=3.4.0->fr-core-news-sm==3.4.0) (0.10.1)\n",
            "Requirement already satisfied: wasabi<1.1.0,>=0.9.1 in /usr/local/lib/python3.8/dist-packages (from spacy<3.5.0,>=3.4.0->fr-core-news-sm==3.4.0) (0.10.1)\n",
            "Requirement already satisfied: cymem<2.1.0,>=2.0.2 in /usr/local/lib/python3.8/dist-packages (from spacy<3.5.0,>=3.4.0->fr-core-news-sm==3.4.0) (2.0.7)\n",
            "Requirement already satisfied: spacy-legacy<3.1.0,>=3.0.10 in /usr/local/lib/python3.8/dist-packages (from spacy<3.5.0,>=3.4.0->fr-core-news-sm==3.4.0) (3.0.10)\n",
            "Requirement already satisfied: langcodes<4.0.0,>=3.2.0 in /usr/local/lib/python3.8/dist-packages (from spacy<3.5.0,>=3.4.0->fr-core-news-sm==3.4.0) (3.3.0)\n",
            "Requirement already satisfied: preshed<3.1.0,>=3.0.2 in /usr/local/lib/python3.8/dist-packages (from spacy<3.5.0,>=3.4.0->fr-core-news-sm==3.4.0) (3.0.8)\n",
            "Requirement already satisfied: smart-open<7.0.0,>=5.2.1 in /usr/local/lib/python3.8/dist-packages (from spacy<3.5.0,>=3.4.0->fr-core-news-sm==3.4.0) (6.3.0)\n",
            "Requirement already satisfied: catalogue<2.1.0,>=2.0.6 in /usr/local/lib/python3.8/dist-packages (from spacy<3.5.0,>=3.4.0->fr-core-news-sm==3.4.0) (2.0.8)\n",
            "Requirement already satisfied: typer<0.8.0,>=0.3.0 in /usr/local/lib/python3.8/dist-packages (from spacy<3.5.0,>=3.4.0->fr-core-news-sm==3.4.0) (0.7.0)\n",
            "Requirement already satisfied: jinja2 in /usr/local/lib/python3.8/dist-packages (from spacy<3.5.0,>=3.4.0->fr-core-news-sm==3.4.0) (2.11.3)\n",
            "Requirement already satisfied: pydantic!=1.8,!=1.8.1,<1.11.0,>=1.7.4 in /usr/local/lib/python3.8/dist-packages (from spacy<3.5.0,>=3.4.0->fr-core-news-sm==3.4.0) (1.10.2)\n",
            "Requirement already satisfied: srsly<3.0.0,>=2.4.3 in /usr/local/lib/python3.8/dist-packages (from spacy<3.5.0,>=3.4.0->fr-core-news-sm==3.4.0) (2.4.5)\n",
            "Requirement already satisfied: pyparsing!=3.0.5,>=2.0.2 in /usr/local/lib/python3.8/dist-packages (from packaging>=20.0->spacy<3.5.0,>=3.4.0->fr-core-news-sm==3.4.0) (3.0.9)\n",
            "Requirement already satisfied: typing-extensions>=4.1.0 in /usr/local/lib/python3.8/dist-packages (from pydantic!=1.8,!=1.8.1,<1.11.0,>=1.7.4->spacy<3.5.0,>=3.4.0->fr-core-news-sm==3.4.0) (4.4.0)\n",
            "Requirement already satisfied: chardet<4,>=3.0.2 in /usr/local/lib/python3.8/dist-packages (from requests<3.0.0,>=2.13.0->spacy<3.5.0,>=3.4.0->fr-core-news-sm==3.4.0) (3.0.4)\n",
            "Requirement already satisfied: urllib3!=1.25.0,!=1.25.1,<1.26,>=1.21.1 in /usr/local/lib/python3.8/dist-packages (from requests<3.0.0,>=2.13.0->spacy<3.5.0,>=3.4.0->fr-core-news-sm==3.4.0) (1.24.3)\n",
            "Requirement already satisfied: certifi>=2017.4.17 in /usr/local/lib/python3.8/dist-packages (from requests<3.0.0,>=2.13.0->spacy<3.5.0,>=3.4.0->fr-core-news-sm==3.4.0) (2022.12.7)\n",
            "Requirement already satisfied: idna<3,>=2.5 in /usr/local/lib/python3.8/dist-packages (from requests<3.0.0,>=2.13.0->spacy<3.5.0,>=3.4.0->fr-core-news-sm==3.4.0) (2.10)\n",
            "Requirement already satisfied: confection<1.0.0,>=0.0.1 in /usr/local/lib/python3.8/dist-packages (from thinc<8.2.0,>=8.1.0->spacy<3.5.0,>=3.4.0->fr-core-news-sm==3.4.0) (0.0.3)\n",
            "Requirement already satisfied: blis<0.8.0,>=0.7.8 in /usr/local/lib/python3.8/dist-packages (from thinc<8.2.0,>=8.1.0->spacy<3.5.0,>=3.4.0->fr-core-news-sm==3.4.0) (0.7.9)\n",
            "Requirement already satisfied: click<9.0.0,>=7.1.1 in /usr/local/lib/python3.8/dist-packages (from typer<0.8.0,>=0.3.0->spacy<3.5.0,>=3.4.0->fr-core-news-sm==3.4.0) (7.1.2)\n",
            "Requirement already satisfied: MarkupSafe>=0.23 in /usr/local/lib/python3.8/dist-packages (from jinja2->spacy<3.5.0,>=3.4.0->fr-core-news-sm==3.4.0) (2.0.1)\n",
            "\u001b[38;5;2m✔ Download and installation successful\u001b[0m\n",
            "You can now load the package via spacy.load('fr_core_news_sm')\n"
          ]
        }
      ]
    },
    {
      "cell_type": "code",
      "source": [
        "#Each sentence will be filtered from its space\n",
        "def spacy_tokenizer(sentence):\n",
        "  mytokens = sp(sentence)\n",
        "  mytokens = [ word for word in mytokens if (word.is_space == False)]\n",
        "  return mytokens"
      ],
      "metadata": {
        "id": "_RJ9mNd7kvg7"
      },
      "execution_count": null,
      "outputs": []
    },
    {
      "cell_type": "code",
      "source": [
        "spacy_tokenizer(X.loc[25])"
      ],
      "metadata": {
        "id": "Bh9anHhllASo",
        "colab": {
          "base_uri": "https://localhost:8080/"
        },
        "outputId": "5e1c16d8-5a44-4943-f630-c5e878bf57f0"
      },
      "execution_count": null,
      "outputs": [
        {
          "output_type": "execute_result",
          "data": {
            "text/plain": [
              "[Qu',\n",
              " est,\n",
              " -ce,\n",
              " qui,\n",
              " peut,\n",
              " bien,\n",
              " poser,\n",
              " problème,\n",
              " dans,\n",
              " ces,\n",
              " petits,\n",
              " livrets,\n",
              " pourtant,\n",
              " plutôt,\n",
              " attractifs,\n",
              " pour,\n",
              " que,\n",
              " seuls,\n",
              " 23,\n",
              " ,,\n",
              " 4,\n",
              " %,\n",
              " de,\n",
              " leurs,\n",
              " détenteurs,\n",
              " arrivent,\n",
              " au,\n",
              " bout,\n",
              " ?]"
            ]
          },
          "metadata": {},
          "execution_count": 85
        }
      ]
    },
    {
      "cell_type": "markdown",
      "source": [
        "Here we will use the regular expression library"
      ],
      "metadata": {
        "id": "bdAgxxf9LgXR"
      }
    },
    {
      "cell_type": "code",
      "source": [
        "#With that method, we can remove useless information about difficulty\n",
        "sp_pattern = re.compile( \"\"\"[\\.\\!\\\"\\s\\?\\-\\,\\'\\%\\d\\:\\;\\_]+\"\"\", re.M).split\n",
        "sp_pattern(X.loc[25])"
      ],
      "metadata": {
        "id": "L3VUjVwh9HUw",
        "colab": {
          "base_uri": "https://localhost:8080/"
        },
        "outputId": "c3b25d89-7338-4840-eb35-db9ada829d09"
      },
      "execution_count": null,
      "outputs": [
        {
          "output_type": "execute_result",
          "data": {
            "text/plain": [
              "['Qu',\n",
              " 'est',\n",
              " 'ce',\n",
              " 'qui',\n",
              " 'peut',\n",
              " 'bien',\n",
              " 'poser',\n",
              " 'problème',\n",
              " 'dans',\n",
              " 'ces',\n",
              " 'petits',\n",
              " 'livrets',\n",
              " 'pourtant',\n",
              " 'plutôt',\n",
              " 'attractifs',\n",
              " 'pour',\n",
              " 'que',\n",
              " 'seuls',\n",
              " 'de',\n",
              " 'leurs',\n",
              " 'détenteurs',\n",
              " 'arrivent',\n",
              " 'au',\n",
              " 'bout',\n",
              " '']"
            ]
          },
          "metadata": {},
          "execution_count": 117
        }
      ]
    },
    {
      "cell_type": "code",
      "source": [
        "#Here we want to make it so that we never have twice the same word in a sentence\n",
        "def no_repeat_word (sentence):\n",
        "  word = sp_pattern(sentence)\n",
        "  word_list =[]\n",
        "  for element in word:\n",
        "    if (element not in word_list):\n",
        "      word_list.append(element)\n",
        "  return word_list"
      ],
      "metadata": {
        "id": "_mSsfuYSpSZB"
      },
      "execution_count": null,
      "outputs": []
    },
    {
      "cell_type": "code",
      "source": [
        "no_repeat_word(X.loc[23])"
      ],
      "metadata": {
        "colab": {
          "base_uri": "https://localhost:8080/"
        },
        "id": "dES8vH0iqL_y",
        "outputId": "27894e80-d2bb-403a-d7ca-0ee85096687c"
      },
      "execution_count": null,
      "outputs": [
        {
          "output_type": "execute_result",
          "data": {
            "text/plain": [
              "['Je',\n",
              " 'ne',\n",
              " 't',\n",
              " 'ai',\n",
              " 'pas',\n",
              " 'téléphoné',\n",
              " 'parce',\n",
              " 'que',\n",
              " 'j',\n",
              " 'eu',\n",
              " 'trop',\n",
              " 'de',\n",
              " 'travail',\n",
              " '']"
            ]
          },
          "metadata": {},
          "execution_count": 88
        }
      ]
    },
    {
      "cell_type": "markdown",
      "source": [
        "- That method didn't work since the model becomes more precise when we have much data"
      ],
      "metadata": {
        "id": "6g1y4RiGEe8W"
      }
    },
    {
      "cell_type": "code",
      "source": [
        "#That function will remove the digits in our sentence\n",
        "def without_numbers (data):\n",
        "  data = re.sub(\" \\d+\", \" \", data)\n",
        "  data = sp_pattern(data)\n",
        "  return data\n",
        "without_numbers (X.loc[25])"
      ],
      "metadata": {
        "id": "SzjtTjJec2ks",
        "colab": {
          "base_uri": "https://localhost:8080/"
        },
        "outputId": "702f55c2-93e7-4189-b29f-c9df9d6b7497"
      },
      "execution_count": null,
      "outputs": [
        {
          "output_type": "execute_result",
          "data": {
            "text/plain": [
              "['Qu',\n",
              " 'est',\n",
              " 'ce',\n",
              " 'qui',\n",
              " 'peut',\n",
              " 'bien',\n",
              " 'poser',\n",
              " 'problème',\n",
              " 'dans',\n",
              " 'ces',\n",
              " 'petits',\n",
              " 'livrets',\n",
              " 'pourtant',\n",
              " 'plutôt',\n",
              " 'attractifs',\n",
              " 'pour',\n",
              " 'que',\n",
              " 'seuls',\n",
              " 'de',\n",
              " 'leurs',\n",
              " 'détenteurs',\n",
              " 'arrivent',\n",
              " 'au',\n",
              " 'bout',\n",
              " '']"
            ]
          },
          "metadata": {},
          "execution_count": 89
        }
      ]
    },
    {
      "cell_type": "markdown",
      "source": [
        "- It will appear that it doesn't improve the models but we rather lose a bit of accuracy"
      ],
      "metadata": {
        "id": "xXexITOcL7dW"
      }
    },
    {
      "cell_type": "code",
      "source": [
        "#Trying to combine our character filter with the stopwords filter\n",
        "# and it results that it's less effective with stopwords\n",
        "def clean_data (data): \n",
        "  cleaned_data = sp_pattern (data)\n",
        "  cleaned_data = filtre_stopfr(cleaned_data)\n",
        "  return cleaned_data"
      ],
      "metadata": {
        "id": "oefzvXeeRLWe"
      },
      "execution_count": null,
      "outputs": []
    },
    {
      "cell_type": "code",
      "source": [
        "clean_data(X.loc[25])"
      ],
      "metadata": {
        "id": "ujt2ShppRewG",
        "colab": {
          "base_uri": "https://localhost:8080/"
        },
        "outputId": "713f2595-fa18-4bed-bac4-762d91c6e255"
      },
      "execution_count": null,
      "outputs": [
        {
          "output_type": "execute_result",
          "data": {
            "text/plain": [
              "['peut',\n",
              " 'bien',\n",
              " 'poser',\n",
              " 'problème',\n",
              " 'petits',\n",
              " 'livrets',\n",
              " 'pourtant',\n",
              " 'plutôt',\n",
              " 'attractifs',\n",
              " 'seuls',\n",
              " 'leurs',\n",
              " 'détenteurs',\n",
              " 'arrivent',\n",
              " 'bout',\n",
              " '']"
            ]
          },
          "metadata": {},
          "execution_count": 91
        }
      ]
    },
    {
      "cell_type": "markdown",
      "source": [
        "<b> After testing all the different tokenizations above, we selected the one which were giving the best accuracy :\n",
        "- sp_pattern : it actually just removes useless characters and thus improve our precision "
      ],
      "metadata": {
        "id": "N8MxCW2YqZNQ"
      }
    },
    {
      "cell_type": "markdown",
      "source": [
        "###We're going to try this tokenization method with the different models"
      ],
      "metadata": {
        "id": "TknOazlA31zv"
      }
    },
    {
      "cell_type": "markdown",
      "source": [
        "- <font color = 'red'>Random Forest classifier"
      ],
      "metadata": {
        "id": "V2_nwdrYsG6y"
      }
    },
    {
      "cell_type": "code",
      "source": [
        "tfidf = TfidfVectorizer(ngram_range=(1,1))"
      ],
      "metadata": {
        "id": "fjHqfnlZJEFc"
      },
      "execution_count": null,
      "outputs": []
    },
    {
      "cell_type": "code",
      "source": [
        "tfidf_vector = TfidfVectorizer(tokenizer= sp_pattern, ngram_range=(1,1))"
      ],
      "metadata": {
        "id": "G4B7ZjZh3hmw"
      },
      "execution_count": null,
      "outputs": []
    },
    {
      "cell_type": "code",
      "source": [
        "Randfor=RandomForestClassifier(n_estimators=500)"
      ],
      "metadata": {
        "id": "o_KBI27b5rt_"
      },
      "execution_count": null,
      "outputs": []
    },
    {
      "cell_type": "code",
      "source": [
        "# Create pipeline\n",
        "pipe = Pipeline([('vectorizer', tfidf_vector),\n",
        "                 ('classifier', Randfor)])\n",
        "\n",
        "# Fit model on training set\n",
        "pipe.fit(X_train, y_train)"
      ],
      "metadata": {
        "id": "-l9OaaNk55GP",
        "colab": {
          "base_uri": "https://localhost:8080/"
        },
        "outputId": "eea19df2-ae80-4166-abfe-cca89d956f73"
      },
      "execution_count": null,
      "outputs": [
        {
          "output_type": "execute_result",
          "data": {
            "text/plain": [
              "Pipeline(steps=[('vectorizer',\n",
              "                 TfidfVectorizer(tokenizer=<built-in method split of re.Pattern object at 0x7f75a7a871d0>)),\n",
              "                ('classifier', RandomForestClassifier(n_estimators=500))])"
            ]
          },
          "metadata": {},
          "execution_count": 95
        }
      ]
    },
    {
      "cell_type": "code",
      "source": [
        "y_pred_randfor=pipe.predict(X_test)"
      ],
      "metadata": {
        "id": "XYweNuH17Gm-"
      },
      "execution_count": null,
      "outputs": []
    },
    {
      "cell_type": "code",
      "source": [
        "precision_randfor, recall_randfor, f1_randfor, accuracy_randfor = models_metrics(y_test, y_pred_randfor)"
      ],
      "metadata": {
        "id": "dGVmEeqO7Wer",
        "colab": {
          "base_uri": "https://localhost:8080/",
          "height": 572
        },
        "outputId": "240a33e8-6e19-4d03-c7c5-42382b6f5db7"
      },
      "execution_count": null,
      "outputs": [
        {
          "output_type": "display_data",
          "data": {
            "text/plain": [
              "<Figure size 360x360 with 2 Axes>"
            ],
            "image/png": "[encoded data removed]"
          },
          "metadata": {}
        },
        {
          "output_type": "stream",
          "name": "stdout",
          "text": [
            "CONFUSION MATRIX:\n",
            "[[121  18  11   8   2   1]\n",
            " [ 70  56  24  11   2   1]\n",
            " [ 26  36  57  29   6   6]\n",
            " [  9  11  18  71  24  11]\n",
            " [ 14   8  16  63  49  23]\n",
            " [ 11  10  13  29  32  63]]\n",
            "ACCURACY SCORE:\n",
            "0.4344\n",
            "CLASSIFICATION REPORT:\n",
            "\tPrecision: 0.4440\n",
            "\tRecall: 0.4344\n",
            "\tF1_Score: 0.4254\n"
          ]
        }
      ]
    },
    {
      "cell_type": "code",
      "source": [
        "accuracy_score_randfor = round(accuracy_score (y_test, y_pred_randfor),4)\n",
        "accuracy_score_randfor"
      ],
      "metadata": {
        "colab": {
          "base_uri": "https://localhost:8080/"
        },
        "id": "Bi853-nVOViT",
        "outputId": "0fff1058-71b9-4a79-a8f4-29f8181df0ff"
      },
      "execution_count": null,
      "outputs": [
        {
          "output_type": "execute_result",
          "data": {
            "text/plain": [
              "0.4344"
            ]
          },
          "metadata": {},
          "execution_count": 98
        }
      ]
    },
    {
      "cell_type": "markdown",
      "source": [
        "- <font color = 'red'>Now with the Logistic Regression"
      ],
      "metadata": {
        "id": "aiIxk4GV8Bxf"
      }
    },
    {
      "cell_type": "code",
      "source": [
        "#Define a model AND apply vectorizer\n",
        "LR = LogisticRegression(penalty='l2', dual=False, tol=0.001, C=1, fit_intercept=True, intercept_scaling=1, class_weight=None, random_state=None, solver='newton-cg', max_iter=1000, multi_class='auto', verbose=0, warm_start=False, n_jobs=None, l1_ratio=None)"
      ],
      "metadata": {
        "id": "RvAb_YmWSJky"
      },
      "execution_count": null,
      "outputs": []
    },
    {
      "cell_type": "code",
      "source": [
        "pipe_lr = Pipeline([('vectorizer', tfidf_vector),\n",
        "                 ('classifier', LR)])\n",
        "\n",
        "# Fit model on training set\n",
        "pipe_lr.fit(X_train, y_train)"
      ],
      "metadata": {
        "id": "5NxaB_os8Ewo",
        "colab": {
          "base_uri": "https://localhost:8080/"
        },
        "outputId": "efb41c6f-9169-4842-a840-ed1578210a7b"
      },
      "execution_count": null,
      "outputs": [
        {
          "output_type": "execute_result",
          "data": {
            "text/plain": [
              "Pipeline(steps=[('vectorizer',\n",
              "                 TfidfVectorizer(tokenizer=<built-in method split of re.Pattern object at 0x7f75a7a871d0>)),\n",
              "                ('classifier',\n",
              "                 LogisticRegression(C=1, max_iter=1000, solver='newton-cg',\n",
              "                                    tol=0.001))])"
            ]
          },
          "metadata": {},
          "execution_count": 100
        }
      ]
    },
    {
      "cell_type": "code",
      "source": [
        "y_pred_lr2=pipe_lr.predict(X_test)"
      ],
      "metadata": {
        "id": "jfyO1NQG8tVr"
      },
      "execution_count": null,
      "outputs": []
    },
    {
      "cell_type": "code",
      "source": [
        "precision_lr2, recall_lr2, f1_lr2, accuracy_lr2 = models_metrics(y_test,y_pred_lr2)"
      ],
      "metadata": {
        "id": "vZ9pR3rI80vy",
        "colab": {
          "base_uri": "https://localhost:8080/",
          "height": 575
        },
        "outputId": "4f0f44b8-1d23-4250-daa9-fd6a7c4c2470"
      },
      "execution_count": null,
      "outputs": [
        {
          "output_type": "display_data",
          "data": {
            "text/plain": [
              "<Figure size 360x360 with 2 Axes>"
            ],
            "image/png": "[encoded data removed]"
          },
          "metadata": {}
        },
        {
          "output_type": "stream",
          "name": "stdout",
          "text": [
            "CONFUSION MATRIX:\n",
            "[[100  33  15   7   3   3]\n",
            " [ 54  60  34   6   5   5]\n",
            " [  9  39  72  16   9  15]\n",
            " [  7   6  18  64  26  23]\n",
            " [  3   3  12  36  72  47]\n",
            " [  6   3  10  19  21  99]]\n",
            "ACCURACY SCORE:\n",
            "0.4865\n",
            "CLASSIFICATION REPORT:\n",
            "\tPrecision: 0.4845\n",
            "\tRecall: 0.4865\n",
            "\tF1_Score: 0.4828\n"
          ]
        }
      ]
    },
    {
      "cell_type": "code",
      "source": [
        "accuracy_score_lr = round(accuracy_score (y_test, y_pred_lr),4)"
      ],
      "metadata": {
        "id": "8uTQrC4bOxmC"
      },
      "execution_count": null,
      "outputs": []
    },
    {
      "cell_type": "markdown",
      "source": [
        "We can see that the Linear Regression works better than the Random Forest classifier"
      ],
      "metadata": {
        "id": "nndN-Q6CGNSy"
      }
    },
    {
      "cell_type": "markdown",
      "source": [
        "- <font color = 'red'>Now with the SVC classifier"
      ],
      "metadata": {
        "id": "BHJ_rLb32Z6c"
      }
    },
    {
      "cell_type": "code",
      "source": [
        "svc = SVC(gamma=\"scale\", random_state=42,kernel = 'poly', coef0 = 0.5)"
      ],
      "metadata": {
        "id": "SXFbjihd2v3W"
      },
      "execution_count": null,
      "outputs": []
    },
    {
      "cell_type": "code",
      "source": [
        "pipe_svc = Pipeline([('vectorizer', tfidf_vector),\n",
        "                 ('classifier', svc)])\n",
        "\n",
        "# Fit model on training set\n",
        "pipe_svc.fit(X_train, y_train)"
      ],
      "metadata": {
        "colab": {
          "base_uri": "https://localhost:8080/"
        },
        "id": "tW5qjKkQ2sLg",
        "outputId": "f36f99d2-05b5-4bc7-fcb1-f7dea6c3d960"
      },
      "execution_count": null,
      "outputs": [
        {
          "output_type": "execute_result",
          "data": {
            "text/plain": [
              "Pipeline(steps=[('vectorizer',\n",
              "                 TfidfVectorizer(tokenizer=<built-in method split of re.Pattern object at 0x7f75a7a871d0>)),\n",
              "                ('classifier', SVC(coef0=0.5, kernel='poly', random_state=42))])"
            ]
          },
          "metadata": {},
          "execution_count": 105
        }
      ]
    },
    {
      "cell_type": "code",
      "source": [
        "y_pred_svc=pipe_svc.predict(X_test)"
      ],
      "metadata": {
        "id": "OSkExnUT24Ep"
      },
      "execution_count": null,
      "outputs": []
    },
    {
      "cell_type": "code",
      "source": [
        "precision_svc, recall_svc, f1_svc, accuracy_svc = models_metrics(y_test,y_pred_svc)"
      ],
      "metadata": {
        "colab": {
          "base_uri": "https://localhost:8080/",
          "height": 571
        },
        "id": "qzV5b_wR3TIC",
        "outputId": "34a3979d-57de-4a31-e85e-803591309464"
      },
      "execution_count": null,
      "outputs": [
        {
          "output_type": "display_data",
          "data": {
            "text/plain": [
              "<Figure size 360x360 with 2 Axes>"
            ],
            "image/png": "[encoded data removed]"
          },
          "metadata": {}
        },
        {
          "output_type": "stream",
          "name": "stdout",
          "text": [
            "CONFUSION MATRIX:\n",
            "[[98 32 19  6  3  3]\n",
            " [44 70 33  7  5  5]\n",
            " [ 6 39 78 17 10 10]\n",
            " [ 4  9 17 69 22 23]\n",
            " [ 2  2 13 42 68 46]\n",
            " [ 3  6  9 18 23 99]]\n",
            "ACCURACY SCORE:\n",
            "0.5021\n",
            "CLASSIFICATION REPORT:\n",
            "\tPrecision: 0.5035\n",
            "\tRecall: 0.5021\n",
            "\tF1_Score: 0.5003\n"
          ]
        }
      ]
    },
    {
      "cell_type": "code",
      "source": [
        "accuracy_score_svc = round(accuracy_score (y_test, y_pred_svc),4)"
      ],
      "metadata": {
        "id": "p8CdPQFsO5D2"
      },
      "execution_count": null,
      "outputs": []
    },
    {
      "cell_type": "markdown",
      "source": [
        "###Here is a summary of our different results with most important metrics"
      ],
      "metadata": {
        "id": "qGqi8jYHHZMh"
      }
    },
    {
      "cell_type": "code",
      "source": [
        "# YOUR CODE HERE \n",
        "metrics = {'Model' : ['Logistic Regression','Random forest','Support vector classification (SVC)'], \n",
        "           'Base_rate' : [base_rate, base_rate, base_rate],\n",
        "           'Accuracy' : [accuracy_lr2, accuracy_randfor, accuracy_svc],\n",
        "           'Precision' : [precision_lr2, precision_randfor, precision_svc],\n",
        "           'Recall' : [recall_lr2, recall_randfor, recall_svc],\n",
        "           'F1 score' : [f1_lr2, f1_randfor, f1_svc]}\n",
        "df_comparison = pd.DataFrame(data = metrics)\n",
        "df_comparison"
      ],
      "metadata": {
        "colab": {
          "base_uri": "https://localhost:8080/",
          "height": 143
        },
        "id": "TIoinlMMHYQ5",
        "outputId": "41bbc78d-c28b-4ec7-b810-9efc164b60f4"
      },
      "execution_count": null,
      "outputs": [
        {
          "output_type": "execute_result",
          "data": {
            "text/plain": [
              "                                 Model  Base_rate  Accuracy  Precision  \\\n",
              "0                  Logistic Regression   0.169375  0.486458   0.484539   \n",
              "1                        Random forest   0.169375  0.434375   0.444026   \n",
              "2  Support vector classification (SVC)   0.169375  0.502083   0.503531   \n",
              "\n",
              "     Recall  F1 score  \n",
              "0  0.486458  0.482818  \n",
              "1  0.434375  0.425370  \n",
              "2  0.502083  0.500338  "
            ],
            "text/html": [
              "\n",
              "  <div id=\"df-25c201e6-596f-48be-b0c8-cfe89f390f75\">\n",
              "    <div class=\"colab-df-container\">\n",
              "      <div>\n",
              "<style scoped>\n",
              "    .dataframe tbody tr th:only-of-type {\n",
              "        vertical-align: middle;\n",
              "    }\n",
              "\n",
              "    .dataframe tbody tr th {\n",
              "        vertical-align: top;\n",
              "    }\n",
              "\n",
              "    .dataframe thead th {\n",
              "        text-align: right;\n",
              "    }\n",
              "</style>\n",
              "<table border=\"1\" class=\"dataframe\">\n",
              "  <thead>\n",
              "    <tr style=\"text-align: right;\">\n",
              "      <th></th>\n",
              "      <th>Model</th>\n",
              "      <th>Base_rate</th>\n",
              "      <th>Accuracy</th>\n",
              "      <th>Precision</th>\n",
              "      <th>Recall</th>\n",
              "      <th>F1 score</th>\n",
              "    </tr>\n",
              "  </thead>\n",
              "  <tbody>\n",
              "    <tr>\n",
              "      <th>0</th>\n",
              "      <td>Logistic Regression</td>\n",
              "      <td>0.169375</td>\n",
              "      <td>0.486458</td>\n",
              "      <td>0.484539</td>\n",
              "      <td>0.486458</td>\n",
              "      <td>0.482818</td>\n",
              "    </tr>\n",
              "    <tr>\n",
              "      <th>1</th>\n",
              "      <td>Random forest</td>\n",
              "      <td>0.169375</td>\n",
              "      <td>0.434375</td>\n",
              "      <td>0.444026</td>\n",
              "      <td>0.434375</td>\n",
              "      <td>0.425370</td>\n",
              "    </tr>\n",
              "    <tr>\n",
              "      <th>2</th>\n",
              "      <td>Support vector classification (SVC)</td>\n",
              "      <td>0.169375</td>\n",
              "      <td>0.502083</td>\n",
              "      <td>0.503531</td>\n",
              "      <td>0.502083</td>\n",
              "      <td>0.500338</td>\n",
              "    </tr>\n",
              "  </tbody>\n",
              "</table>\n",
              "</div>\n",
              "      <button class=\"colab-df-convert\" onclick=\"convertToInteractive('df-25c201e6-596f-48be-b0c8-cfe89f390f75')\"\n",
              "              title=\"Convert this dataframe to an interactive table.\"\n",
              "              style=\"display:none;\">\n",
              "        \n",
              "  <svg xmlns=\"http://www.w3.org/2000/svg\" height=\"24px\"viewBox=\"0 0 24 24\"\n",
              "       width=\"24px\">\n",
              "    <path d=\"M0 0h24v24H0V0z\" fill=\"none\"/>\n",
              "    <path d=\"M18.56 5.44l.94 2.06.94-2.06 2.06-.94-2.06-.94-.94-2.06-.94 2.06-2.06.94zm-11 1L8.5 8.5l.94-2.06 2.06-.94-2.06-.94L8.5 2.5l-.94 2.06-2.06.94zm10 10l.94 2.06.94-2.06 2.06-.94-2.06-.94-.94-2.06-.94 2.06-2.06.94z\"/><path d=\"M17.41 7.96l-1.37-1.37c-.4-.4-.92-.59-1.43-.59-.52 0-1.04.2-1.43.59L10.3 9.45l-7.72 7.72c-.78.78-.78 2.05 0 2.83L4 21.41c.39.39.9.59 1.41.59.51 0 1.02-.2 1.41-.59l7.78-7.78 2.81-2.81c.8-.78.8-2.07 0-2.86zM5.41 20L4 18.59l7.72-7.72 1.47 1.35L5.41 20z\"/>\n",
              "  </svg>\n",
              "      </button>\n",
              "      \n",
              "  <style>\n",
              "    .colab-df-container {\n",
              "      display:flex;\n",
              "      flex-wrap:wrap;\n",
              "      gap: 12px;\n",
              "    }\n",
              "\n",
              "    .colab-df-convert {\n",
              "      background-color: #E8F0FE;\n",
              "      border: none;\n",
              "      border-radius: 50%;\n",
              "      cursor: pointer;\n",
              "      display: none;\n",
              "      fill: #1967D2;\n",
              "      height: 32px;\n",
              "      padding: 0 0 0 0;\n",
              "      width: 32px;\n",
              "    }\n",
              "\n",
              "    .colab-df-convert:hover {\n",
              "      background-color: #E2EBFA;\n",
              "      box-shadow: 0px 1px 2px rgba(60, 64, 67, 0.3), 0px 1px 3px 1px rgba(60, 64, 67, 0.15);\n",
              "      fill: #174EA6;\n",
              "    }\n",
              "\n",
              "    [theme=dark] .colab-df-convert {\n",
              "      background-color: #3B4455;\n",
              "      fill: #D2E3FC;\n",
              "    }\n",
              "\n",
              "    [theme=dark] .colab-df-convert:hover {\n",
              "      background-color: #434B5C;\n",
              "      box-shadow: 0px 1px 3px 1px rgba(0, 0, 0, 0.15);\n",
              "      filter: drop-shadow(0px 1px 2px rgba(0, 0, 0, 0.3));\n",
              "      fill: #FFFFFF;\n",
              "    }\n",
              "  </style>\n",
              "\n",
              "      <script>\n",
              "        const buttonEl =\n",
              "          document.querySelector('#df-25c201e6-596f-48be-b0c8-cfe89f390f75 button.colab-df-convert');\n",
              "        buttonEl.style.display =\n",
              "          google.colab.kernel.accessAllowed ? 'block' : 'none';\n",
              "\n",
              "        async function convertToInteractive(key) {\n",
              "          const element = document.querySelector('#df-25c201e6-596f-48be-b0c8-cfe89f390f75');\n",
              "          const dataTable =\n",
              "            await google.colab.kernel.invokeFunction('convertToInteractive',\n",
              "                                                     [key], {});\n",
              "          if (!dataTable) return;\n",
              "\n",
              "          const docLinkHtml = 'Like what you see? Visit the ' +\n",
              "            '<a target=\"_blank\" href=https://colab.research.google.com/notebooks/data_table.ipynb>data table notebook</a>'\n",
              "            + ' to learn more about interactive tables.';\n",
              "          element.innerHTML = '';\n",
              "          dataTable['output_type'] = 'display_data';\n",
              "          await google.colab.output.renderOutput(dataTable, element);\n",
              "          const docLink = document.createElement('div');\n",
              "          docLink.innerHTML = docLinkHtml;\n",
              "          element.appendChild(docLink);\n",
              "        }\n",
              "      </script>\n",
              "    </div>\n",
              "  </div>\n",
              "  "
            ]
          },
          "metadata": {},
          "execution_count": 114
        }
      ]
    },
    {
      "cell_type": "markdown",
      "source": [
        "#<font color = 'red'>Code to submit"
      ],
      "metadata": {
        "id": "3KxpOpbq3DGl"
      }
    },
    {
      "cell_type": "markdown",
      "source": [
        "###That part will be used to upload a CSV file that we will submit on the kaggle competition"
      ],
      "metadata": {
        "id": "-kOQPQ6yGgey"
      }
    },
    {
      "cell_type": "code",
      "source": [
        "df_pred_submit_svc = df_pred.copy()"
      ],
      "metadata": {
        "id": "W-maqMJKe4d6"
      },
      "execution_count": null,
      "outputs": []
    },
    {
      "cell_type": "code",
      "source": [
        "unlabelled_svc=pipe_svc.predict(df_pred_submit_svc['sentence'])\n",
        "unlabelled_svc"
      ],
      "metadata": {
        "colab": {
          "base_uri": "https://localhost:8080/"
        },
        "id": "dxRi2D5rfGuc",
        "outputId": "0a06ff76-8149-4158-d626-60464e3e33de"
      },
      "execution_count": null,
      "outputs": [
        {
          "output_type": "execute_result",
          "data": {
            "text/plain": [
              "array(['C2', 'B1', 'A1', ..., 'C2', 'C1', 'B1'], dtype=object)"
            ]
          },
          "metadata": {},
          "execution_count": 57
        }
      ]
    },
    {
      "cell_type": "code",
      "source": [
        "df_pred_submit_svc['difficulty']=unlabelled_svc #to modify when using another classification model\n",
        "df_pred_submit_svc =df_pred_submit_svc.drop('sentence',axis=1)"
      ],
      "metadata": {
        "id": "rWD-OfWTfcQv"
      },
      "execution_count": null,
      "outputs": []
    },
    {
      "cell_type": "code",
      "source": [
        "#for the submission part: \n",
        "df_pred_submit_svc.to_csv('teamzoom_submit_svc.csv', encoding ='utf-8-sig',index=False) \n",
        "files.download('teamzoom_submit_svc.csv')"
      ],
      "metadata": {
        "colab": {
          "base_uri": "https://localhost:8080/",
          "height": 17
        },
        "id": "JWgh9WWFfj1e",
        "outputId": "f19c99fe-07dd-461b-d67d-840a034818c5"
      },
      "execution_count": null,
      "outputs": [
        {
          "output_type": "display_data",
          "data": {
            "text/plain": [
              "<IPython.core.display.Javascript object>"
            ],
            "application/javascript": [
              "\n",
              "    async function download(id, filename, size) {\n",
              "      if (!google.colab.kernel.accessAllowed) {\n",
              "        return;\n",
              "      }\n",
              "      const div = document.createElement('div');\n",
              "      const label = document.createElement('label');\n",
              "      label.textContent = `Downloading \"${filename}\": `;\n",
              "      div.appendChild(label);\n",
              "      const progress = document.createElement('progress');\n",
              "      progress.max = size;\n",
              "      div.appendChild(progress);\n",
              "      document.body.appendChild(div);\n",
              "\n",
              "      const buffers = [];\n",
              "      let downloaded = 0;\n",
              "\n",
              "      const channel = await google.colab.kernel.comms.open(id);\n",
              "      // Send a message to notify the kernel that we're ready.\n",
              "      channel.send({})\n",
              "\n",
              "      for await (const message of channel.messages) {\n",
              "        // Send a message to notify the kernel that we're ready.\n",
              "        channel.send({})\n",
              "        if (message.buffers) {\n",
              "          for (const buffer of message.buffers) {\n",
              "            buffers.push(buffer);\n",
              "            downloaded += buffer.byteLength;\n",
              "            progress.value = downloaded;\n",
              "          }\n",
              "        }\n",
              "      }\n",
              "      const blob = new Blob(buffers, {type: 'application/binary'});\n",
              "      const a = document.createElement('a');\n",
              "      a.href = window.URL.createObjectURL(blob);\n",
              "      a.download = filename;\n",
              "      div.appendChild(a);\n",
              "      a.click();\n",
              "      div.remove();\n",
              "    }\n",
              "  "
            ]
          },
          "metadata": {}
        },
        {
          "output_type": "display_data",
          "data": {
            "text/plain": [
              "<IPython.core.display.Javascript object>"
            ],
            "application/javascript": [
              "download(\"download_4fef8b48-afa0-444d-bfda-4833a151f90b\", \"teamzoom_submit_svc.csv\", 8507)"
            ]
          },
          "metadata": {}
        }
      ]
    }
  ],
  "metadata": {
    "accelerator": "GPU",
    "colab": {
      "provenance": [],
      "include_colab_link": true
    },
    "gpuClass": "standard",
    "kernelspec": {
      "display_name": "Python 3",
      "name": "python3"
    },
    "language_info": {
      "name": "python"
    }
  },
  "nbformat": 4,
  "nbformat_minor": 0
}