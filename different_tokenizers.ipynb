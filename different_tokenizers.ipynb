{
  "cells": [
    {
      "cell_type": "markdown",
      "metadata": {
        "id": "FY3SEbvKGI8p"
      },
      "source": [
        "##<b><font color = 'white'>Context</b>\n",
        "To be able to computer text on classifier models, we are going to vectorize it,allowing algorithms to learn from our data and predict a new set of sentences with the best accuracy possible. To maximize our chance, we will tune our models the fittest way."
      ]
    },
    {
      "cell_type": "markdown",
      "source": [
        "##<b><font color = 'white'>Libraries</b>\n",
        "Below are the libraries we will use for either cleaning or training data, or even displaying different graphical ways to interpret our results."
      ],
      "metadata": {
        "id": "4m5QYjrCAOfb"
      }
    },
    {
      "cell_type": "code",
      "execution_count": 27,
      "metadata": {
        "id": "L8x8s7T2GEK6",
        "colab": {
          "base_uri": "https://localhost:8080/"
        },
        "outputId": "70eac918-a739-445a-a70f-6eb7de161692"
      },
      "outputs": [
        {
          "output_type": "stream",
          "name": "stderr",
          "text": [
            "[nltk_data] Downloading package stopwords to /root/nltk_data...\n",
            "[nltk_data]   Package stopwords is already up-to-date!\n",
            "[nltk_data] Downloading package punkt to /root/nltk_data...\n",
            "[nltk_data]   Package punkt is already up-to-date!\n"
          ]
        }
      ],
      "source": [
        "#Import packages to create/modify DataFrames\n",
        "import pandas as pd \n",
        "\n",
        "#Import packages to tokenize and clean data\n",
        "from sklearn.preprocessing import OrdinalEncoder, OneHotEncoder, LabelEncoder\n",
        "import spacy\n",
        "from spacy import displacy\n",
        "import re\n",
        "import nltk\n",
        "from nltk.corpus import stopwords\n",
        "from nltk import word_tokenize\n",
        "from nltk.tokenize import sent_tokenize\n",
        "nltk.download('stopwords')\n",
        "nltk.download('punkt')\n",
        "\n",
        "#Import packages to display information on charts, table and other graphical elements\n",
        "%matplotlib inline\n",
        "import matplotlib.pyplot as plt\n",
        "import seaborn as sns\n",
        "sns.set_style(\"whitegrid\")\n",
        "\n",
        "#Import packages to vectorize and train data through models\n",
        "\n",
        "from sklearn.linear_model import LogisticRegression, LogisticRegressionCV\n",
        "from sklearn.ensemble import RandomForestClassifier\n",
        "from sklearn.svm import SVC\n",
        "from sklearn.model_selection import train_test_split\n",
        "from sklearn.metrics import confusion_matrix, accuracy_score, precision_score, recall_score, f1_score\n",
        "from sklearn. preprocessing import StandardScaler\n",
        "from sklearn.feature_extraction.text import CountVectorizer, TfidfVectorizer\n",
        "from sklearn.pipeline import Pipeline\n",
        "\n",
        "#Other imports\n",
        "import numpy as np\n",
        "from google.colab import drive\n",
        "from google.colab import files"
      ]
    },
    {
      "cell_type": "markdown",
      "source": [
        "##<b><font color = 'white'>Import our data</b>\n",
        "First, we will download the data we need from our Google Drive Folder"
      ],
      "metadata": {
        "id": "8TBj-dZoEQER"
      }
    },
    {
      "cell_type": "code",
      "execution_count": 28,
      "metadata": {
        "colab": {
          "base_uri": "https://localhost:8080/"
        },
        "id": "sAQelL8nGqH7",
        "outputId": "e334eae3-3a52-4bb7-a23e-46f117ca14f7"
      },
      "outputs": [
        {
          "output_type": "stream",
          "name": "stdout",
          "text": [
            "Mounted at /content/drive\n"
          ]
        }
      ],
      "source": [
        "#Load the dataset using google drive mount (inspired by the challenge notebook)\n",
        "#Mount your Google Drive\n",
        "drive.mount('/content/drive', force_remount=True)"
      ]
    },
    {
      "cell_type": "code",
      "execution_count": 29,
      "metadata": {
        "id": "C2lIqZhiHHFA"
      },
      "outputs": [],
      "source": [
        "#let's load the dataset\n",
        "\n",
        "df = pd.read_csv('drive/MyDrive/Coding_Challenge/training_data.csv')"
      ]
    },
    {
      "cell_type": "code",
      "source": [
        "df_pred = pd.read_csv('drive/MyDrive/Coding_Challenge/unlabelled_test_data.csv')"
      ],
      "metadata": {
        "id": "g0l4ckgbfAl9"
      },
      "execution_count": 30,
      "outputs": []
    },
    {
      "cell_type": "markdown",
      "source": [
        "* Here is a subset of our training data"
      ],
      "metadata": {
        "id": "0D2TM1u8Fm4j"
      }
    },
    {
      "cell_type": "code",
      "source": [
        "df.head(5)"
      ],
      "metadata": {
        "colab": {
          "base_uri": "https://localhost:8080/",
          "height": 206
        },
        "id": "LZBfmrNiFvS-",
        "outputId": "213941a3-7701-4e8b-cf2f-2def7dec80af"
      },
      "execution_count": 31,
      "outputs": [
        {
          "output_type": "execute_result",
          "data": {
            "text/plain": [
              "   id                                           sentence difficulty\n",
              "0   0  Les coûts kilométriques réels peuvent diverger...         C1\n",
              "1   1  Le bleu, c'est ma couleur préférée mais je n'a...         A1\n",
              "2   2  Le test de niveau en français est sur le site ...         A1\n",
              "3   3           Est-ce que ton mari est aussi de Boston?         A1\n",
              "4   4  Dans les écoles de commerce, dans les couloirs...         B1"
            ],
            "text/html": [
              "\n",
              "  <div id=\"df-89fdf847-b6c5-455b-bbb5-344831e912f4\">\n",
              "    <div class=\"colab-df-container\">\n",
              "      <div>\n",
              "<style scoped>\n",
              "    .dataframe tbody tr th:only-of-type {\n",
              "        vertical-align: middle;\n",
              "    }\n",
              "\n",
              "    .dataframe tbody tr th {\n",
              "        vertical-align: top;\n",
              "    }\n",
              "\n",
              "    .dataframe thead th {\n",
              "        text-align: right;\n",
              "    }\n",
              "</style>\n",
              "<table border=\"1\" class=\"dataframe\">\n",
              "  <thead>\n",
              "    <tr style=\"text-align: right;\">\n",
              "      <th></th>\n",
              "      <th>id</th>\n",
              "      <th>sentence</th>\n",
              "      <th>difficulty</th>\n",
              "    </tr>\n",
              "  </thead>\n",
              "  <tbody>\n",
              "    <tr>\n",
              "      <th>0</th>\n",
              "      <td>0</td>\n",
              "      <td>Les coûts kilométriques réels peuvent diverger...</td>\n",
              "      <td>C1</td>\n",
              "    </tr>\n",
              "    <tr>\n",
              "      <th>1</th>\n",
              "      <td>1</td>\n",
              "      <td>Le bleu, c'est ma couleur préférée mais je n'a...</td>\n",
              "      <td>A1</td>\n",
              "    </tr>\n",
              "    <tr>\n",
              "      <th>2</th>\n",
              "      <td>2</td>\n",
              "      <td>Le test de niveau en français est sur le site ...</td>\n",
              "      <td>A1</td>\n",
              "    </tr>\n",
              "    <tr>\n",
              "      <th>3</th>\n",
              "      <td>3</td>\n",
              "      <td>Est-ce que ton mari est aussi de Boston?</td>\n",
              "      <td>A1</td>\n",
              "    </tr>\n",
              "    <tr>\n",
              "      <th>4</th>\n",
              "      <td>4</td>\n",
              "      <td>Dans les écoles de commerce, dans les couloirs...</td>\n",
              "      <td>B1</td>\n",
              "    </tr>\n",
              "  </tbody>\n",
              "</table>\n",
              "</div>\n",
              "      <button class=\"colab-df-convert\" onclick=\"convertToInteractive('df-89fdf847-b6c5-455b-bbb5-344831e912f4')\"\n",
              "              title=\"Convert this dataframe to an interactive table.\"\n",
              "              style=\"display:none;\">\n",
              "        \n",
              "  <svg xmlns=\"http://www.w3.org/2000/svg\" height=\"24px\"viewBox=\"0 0 24 24\"\n",
              "       width=\"24px\">\n",
              "    <path d=\"M0 0h24v24H0V0z\" fill=\"none\"/>\n",
              "    <path d=\"M18.56 5.44l.94 2.06.94-2.06 2.06-.94-2.06-.94-.94-2.06-.94 2.06-2.06.94zm-11 1L8.5 8.5l.94-2.06 2.06-.94-2.06-.94L8.5 2.5l-.94 2.06-2.06.94zm10 10l.94 2.06.94-2.06 2.06-.94-2.06-.94-.94-2.06-.94 2.06-2.06.94z\"/><path d=\"M17.41 7.96l-1.37-1.37c-.4-.4-.92-.59-1.43-.59-.52 0-1.04.2-1.43.59L10.3 9.45l-7.72 7.72c-.78.78-.78 2.05 0 2.83L4 21.41c.39.39.9.59 1.41.59.51 0 1.02-.2 1.41-.59l7.78-7.78 2.81-2.81c.8-.78.8-2.07 0-2.86zM5.41 20L4 18.59l7.72-7.72 1.47 1.35L5.41 20z\"/>\n",
              "  </svg>\n",
              "      </button>\n",
              "      \n",
              "  <style>\n",
              "    .colab-df-container {\n",
              "      display:flex;\n",
              "      flex-wrap:wrap;\n",
              "      gap: 12px;\n",
              "    }\n",
              "\n",
              "    .colab-df-convert {\n",
              "      background-color: #E8F0FE;\n",
              "      border: none;\n",
              "      border-radius: 50%;\n",
              "      cursor: pointer;\n",
              "      display: none;\n",
              "      fill: #1967D2;\n",
              "      height: 32px;\n",
              "      padding: 0 0 0 0;\n",
              "      width: 32px;\n",
              "    }\n",
              "\n",
              "    .colab-df-convert:hover {\n",
              "      background-color: #E2EBFA;\n",
              "      box-shadow: 0px 1px 2px rgba(60, 64, 67, 0.3), 0px 1px 3px 1px rgba(60, 64, 67, 0.15);\n",
              "      fill: #174EA6;\n",
              "    }\n",
              "\n",
              "    [theme=dark] .colab-df-convert {\n",
              "      background-color: #3B4455;\n",
              "      fill: #D2E3FC;\n",
              "    }\n",
              "\n",
              "    [theme=dark] .colab-df-convert:hover {\n",
              "      background-color: #434B5C;\n",
              "      box-shadow: 0px 1px 3px 1px rgba(0, 0, 0, 0.15);\n",
              "      filter: drop-shadow(0px 1px 2px rgba(0, 0, 0, 0.3));\n",
              "      fill: #FFFFFF;\n",
              "    }\n",
              "  </style>\n",
              "\n",
              "      <script>\n",
              "        const buttonEl =\n",
              "          document.querySelector('#df-89fdf847-b6c5-455b-bbb5-344831e912f4 button.colab-df-convert');\n",
              "        buttonEl.style.display =\n",
              "          google.colab.kernel.accessAllowed ? 'block' : 'none';\n",
              "\n",
              "        async function convertToInteractive(key) {\n",
              "          const element = document.querySelector('#df-89fdf847-b6c5-455b-bbb5-344831e912f4');\n",
              "          const dataTable =\n",
              "            await google.colab.kernel.invokeFunction('convertToInteractive',\n",
              "                                                     [key], {});\n",
              "          if (!dataTable) return;\n",
              "\n",
              "          const docLinkHtml = 'Like what you see? Visit the ' +\n",
              "            '<a target=\"_blank\" href=https://colab.research.google.com/notebooks/data_table.ipynb>data table notebook</a>'\n",
              "            + ' to learn more about interactive tables.';\n",
              "          element.innerHTML = '';\n",
              "          dataTable['output_type'] = 'display_data';\n",
              "          await google.colab.output.renderOutput(dataTable, element);\n",
              "          const docLink = document.createElement('div');\n",
              "          docLink.innerHTML = docLinkHtml;\n",
              "          element.appendChild(docLink);\n",
              "        }\n",
              "      </script>\n",
              "    </div>\n",
              "  </div>\n",
              "  "
            ]
          },
          "metadata": {},
          "execution_count": 31
        }
      ]
    },
    {
      "cell_type": "markdown",
      "source": [
        "* And here is a sample of the data we are aiming to classify"
      ],
      "metadata": {
        "id": "OAjCo3Z9GGiQ"
      }
    },
    {
      "cell_type": "code",
      "source": [
        "df_pred.head(5)"
      ],
      "metadata": {
        "colab": {
          "base_uri": "https://localhost:8080/",
          "height": 206
        },
        "id": "u-K15h-FGE4L",
        "outputId": "8b254191-dfb1-4793-9812-f8d1b10a764d"
      },
      "execution_count": 32,
      "outputs": [
        {
          "output_type": "execute_result",
          "data": {
            "text/plain": [
              "   id                                           sentence\n",
              "0   0  Nous dûmes nous excuser des propos que nous eû...\n",
              "1   1  Vous ne pouvez pas savoir le plaisir que j'ai ...\n",
              "2   2  Et, paradoxalement, boire froid n'est pas la b...\n",
              "3   3  Ce n'est pas étonnant, car c'est une saison my...\n",
              "4   4  Le corps de Golo lui-même, d'une essence aussi..."
            ],
            "text/html": [
              "\n",
              "  <div id=\"df-6e3971d2-283b-4148-981b-da7f3df78ee5\">\n",
              "    <div class=\"colab-df-container\">\n",
              "      <div>\n",
              "<style scoped>\n",
              "    .dataframe tbody tr th:only-of-type {\n",
              "        vertical-align: middle;\n",
              "    }\n",
              "\n",
              "    .dataframe tbody tr th {\n",
              "        vertical-align: top;\n",
              "    }\n",
              "\n",
              "    .dataframe thead th {\n",
              "        text-align: right;\n",
              "    }\n",
              "</style>\n",
              "<table border=\"1\" class=\"dataframe\">\n",
              "  <thead>\n",
              "    <tr style=\"text-align: right;\">\n",
              "      <th></th>\n",
              "      <th>id</th>\n",
              "      <th>sentence</th>\n",
              "    </tr>\n",
              "  </thead>\n",
              "  <tbody>\n",
              "    <tr>\n",
              "      <th>0</th>\n",
              "      <td>0</td>\n",
              "      <td>Nous dûmes nous excuser des propos que nous eû...</td>\n",
              "    </tr>\n",
              "    <tr>\n",
              "      <th>1</th>\n",
              "      <td>1</td>\n",
              "      <td>Vous ne pouvez pas savoir le plaisir que j'ai ...</td>\n",
              "    </tr>\n",
              "    <tr>\n",
              "      <th>2</th>\n",
              "      <td>2</td>\n",
              "      <td>Et, paradoxalement, boire froid n'est pas la b...</td>\n",
              "    </tr>\n",
              "    <tr>\n",
              "      <th>3</th>\n",
              "      <td>3</td>\n",
              "      <td>Ce n'est pas étonnant, car c'est une saison my...</td>\n",
              "    </tr>\n",
              "    <tr>\n",
              "      <th>4</th>\n",
              "      <td>4</td>\n",
              "      <td>Le corps de Golo lui-même, d'une essence aussi...</td>\n",
              "    </tr>\n",
              "  </tbody>\n",
              "</table>\n",
              "</div>\n",
              "      <button class=\"colab-df-convert\" onclick=\"convertToInteractive('df-6e3971d2-283b-4148-981b-da7f3df78ee5')\"\n",
              "              title=\"Convert this dataframe to an interactive table.\"\n",
              "              style=\"display:none;\">\n",
              "        \n",
              "  <svg xmlns=\"http://www.w3.org/2000/svg\" height=\"24px\"viewBox=\"0 0 24 24\"\n",
              "       width=\"24px\">\n",
              "    <path d=\"M0 0h24v24H0V0z\" fill=\"none\"/>\n",
              "    <path d=\"M18.56 5.44l.94 2.06.94-2.06 2.06-.94-2.06-.94-.94-2.06-.94 2.06-2.06.94zm-11 1L8.5 8.5l.94-2.06 2.06-.94-2.06-.94L8.5 2.5l-.94 2.06-2.06.94zm10 10l.94 2.06.94-2.06 2.06-.94-2.06-.94-.94-2.06-.94 2.06-2.06.94z\"/><path d=\"M17.41 7.96l-1.37-1.37c-.4-.4-.92-.59-1.43-.59-.52 0-1.04.2-1.43.59L10.3 9.45l-7.72 7.72c-.78.78-.78 2.05 0 2.83L4 21.41c.39.39.9.59 1.41.59.51 0 1.02-.2 1.41-.59l7.78-7.78 2.81-2.81c.8-.78.8-2.07 0-2.86zM5.41 20L4 18.59l7.72-7.72 1.47 1.35L5.41 20z\"/>\n",
              "  </svg>\n",
              "      </button>\n",
              "      \n",
              "  <style>\n",
              "    .colab-df-container {\n",
              "      display:flex;\n",
              "      flex-wrap:wrap;\n",
              "      gap: 12px;\n",
              "    }\n",
              "\n",
              "    .colab-df-convert {\n",
              "      background-color: #E8F0FE;\n",
              "      border: none;\n",
              "      border-radius: 50%;\n",
              "      cursor: pointer;\n",
              "      display: none;\n",
              "      fill: #1967D2;\n",
              "      height: 32px;\n",
              "      padding: 0 0 0 0;\n",
              "      width: 32px;\n",
              "    }\n",
              "\n",
              "    .colab-df-convert:hover {\n",
              "      background-color: #E2EBFA;\n",
              "      box-shadow: 0px 1px 2px rgba(60, 64, 67, 0.3), 0px 1px 3px 1px rgba(60, 64, 67, 0.15);\n",
              "      fill: #174EA6;\n",
              "    }\n",
              "\n",
              "    [theme=dark] .colab-df-convert {\n",
              "      background-color: #3B4455;\n",
              "      fill: #D2E3FC;\n",
              "    }\n",
              "\n",
              "    [theme=dark] .colab-df-convert:hover {\n",
              "      background-color: #434B5C;\n",
              "      box-shadow: 0px 1px 3px 1px rgba(0, 0, 0, 0.15);\n",
              "      filter: drop-shadow(0px 1px 2px rgba(0, 0, 0, 0.3));\n",
              "      fill: #FFFFFF;\n",
              "    }\n",
              "  </style>\n",
              "\n",
              "      <script>\n",
              "        const buttonEl =\n",
              "          document.querySelector('#df-6e3971d2-283b-4148-981b-da7f3df78ee5 button.colab-df-convert');\n",
              "        buttonEl.style.display =\n",
              "          google.colab.kernel.accessAllowed ? 'block' : 'none';\n",
              "\n",
              "        async function convertToInteractive(key) {\n",
              "          const element = document.querySelector('#df-6e3971d2-283b-4148-981b-da7f3df78ee5');\n",
              "          const dataTable =\n",
              "            await google.colab.kernel.invokeFunction('convertToInteractive',\n",
              "                                                     [key], {});\n",
              "          if (!dataTable) return;\n",
              "\n",
              "          const docLinkHtml = 'Like what you see? Visit the ' +\n",
              "            '<a target=\"_blank\" href=https://colab.research.google.com/notebooks/data_table.ipynb>data table notebook</a>'\n",
              "            + ' to learn more about interactive tables.';\n",
              "          element.innerHTML = '';\n",
              "          dataTable['output_type'] = 'display_data';\n",
              "          await google.colab.output.renderOutput(dataTable, element);\n",
              "          const docLink = document.createElement('div');\n",
              "          docLink.innerHTML = docLinkHtml;\n",
              "          element.appendChild(docLink);\n",
              "        }\n",
              "      </script>\n",
              "    </div>\n",
              "  </div>\n",
              "  "
            ]
          },
          "metadata": {},
          "execution_count": 32
        }
      ]
    },
    {
      "cell_type": "markdown",
      "source": [
        "<font color = 'white'>Now, we will set our dependent (y) and independent (X) variables\n",
        "\n"
      ],
      "metadata": {
        "id": "OuRXb_R_HmEI"
      }
    },
    {
      "cell_type": "code",
      "execution_count": 33,
      "metadata": {
        "id": "Kwpx6lBeHUND"
      },
      "outputs": [],
      "source": [
        "#Splitting the data\n",
        "X = df['sentence']\n",
        "y = df['difficulty']\n",
        "X_train, X_test, y_train, y_test = train_test_split(X, y, test_size = 0.2, random_state = 0)"
      ]
    },
    {
      "cell_type": "markdown",
      "source": [
        "<font color = 'white'>Then we will apply a linear regression as a classifier but first use the vector \"tfidf\" to make it possible since the model requires numeric values"
      ],
      "metadata": {
        "id": "t4oM1qXrIRBy"
      }
    },
    {
      "cell_type": "code",
      "execution_count": 34,
      "metadata": {
        "id": "7iNF3TMhHa5F"
      },
      "outputs": [],
      "source": [
        "#Define a model AND apply vectorizer\n",
        "LR = LogisticRegression(penalty='l2', dual=False, tol=0.001, C=1.0, fit_intercept=True, intercept_scaling=1, class_weight=None, random_state=None, solver='newton-cg', max_iter=1000, multi_class='auto', verbose=0, warm_start=False, n_jobs=None, l1_ratio=None)"
      ]
    },
    {
      "cell_type": "code",
      "execution_count": 35,
      "metadata": {
        "colab": {
          "base_uri": "https://localhost:8080/"
        },
        "id": "gO1iTyStIBHU",
        "outputId": "d07bbe30-c4e9-4c9b-b74d-3a47568f76be"
      },
      "outputs": [
        {
          "output_type": "execute_result",
          "data": {
            "text/plain": [
              "Pipeline(steps=[('vectorizer', TfidfVectorizer()),\n",
              "                ('classifier',\n",
              "                 LogisticRegression(max_iter=1000, solver='newton-cg',\n",
              "                                    tol=0.001))])"
            ]
          },
          "metadata": {},
          "execution_count": 35
        }
      ],
      "source": [
        "# Using default tokenizer in TfidfVectorizer\n",
        "tfidf = TfidfVectorizer(ngram_range=(1,1))\n",
        "# Create a pipeline\n",
        "pipe = Pipeline([('vectorizer', tfidf),\n",
        "                 ('classifier', LR)])\n",
        "\n",
        "# Fit model on training set\n",
        "pipe.fit(X_train, y_train)"
      ]
    },
    {
      "cell_type": "markdown",
      "source": [
        "<font color = 'white'> Here we define a function we will use throughout the whole notebook since it allows to display metrics about our result"
      ],
      "metadata": {
        "id": "ATCcOXPRJEuw"
      }
    },
    {
      "cell_type": "code",
      "execution_count": 36,
      "metadata": {
        "id": "dqGmr5FEIFWi"
      },
      "outputs": [],
      "source": [
        "#function to calculate metrics of the models\n",
        "def models_metrics (true, pred):\n",
        "  precision = precision_score(true, pred, average='weighted')\n",
        "  recall = recall_score(true, pred, average='weighted')\n",
        "  f1 = f1_score(true, pred, average='weighted')\n",
        "  # Graphical change for confusion_matrix\n",
        "  conf_mat = confusion_matrix(true, pred)\n",
        "  fig, ax = plt.subplots(figsize=(10,10))\n",
        "  sns.heatmap(conf_mat, annot=True, fmt='d')\n",
        "  plt.ylabel('Actual')\n",
        "  plt.xlabel('Predicted')\n",
        "  plt.show()\n",
        "  print(f\"ACCURACY SCORE:\\n{accuracy_score(true, pred):.4f}\")\n",
        "  print(f\"CLASSIFICATION REPORT:\\n\\tPrecision: {precision:.4f}\\n\\tRecall: {recall:.4f}\\n\\tF1_Score: {f1:.4f}\")"
      ]
    },
    {
      "cell_type": "code",
      "execution_count": 37,
      "metadata": {
        "id": "24ap7CZaILBr"
      },
      "outputs": [],
      "source": [
        "#predict on test split\n",
        "y_pred_lr = pipe.predict(X_test)"
      ]
    },
    {
      "cell_type": "markdown",
      "source": [
        "- The confusion Matrix displays true values (y-axis) compared to predicted values (x-axis)"
      ],
      "metadata": {
        "id": "Py5Rczp1JU38"
      }
    },
    {
      "cell_type": "code",
      "execution_count": 38,
      "metadata": {
        "colab": {
          "base_uri": "https://localhost:8080/",
          "height": 716
        },
        "id": "DTL6ZuGYIQOm",
        "outputId": "c6e0e17f-87b4-4ba8-ab08-cc5e5cf5f00d"
      },
      "outputs": [
        {
          "output_type": "display_data",
          "data": {
            "text/plain": [
              "<Figure size 720x720 with 2 Axes>"
            ],
            "image/png": "[encoded data removed]"
          },
          "metadata": {}
        },
        {
          "output_type": "stream",
          "name": "stdout",
          "text": [
            "ACCURACY SCORE:\n",
            "0.4667\n",
            "CLASSIFICATION REPORT:\n",
            "\tPrecision: 0.4656\n",
            "\tRecall: 0.4667\n",
            "\tF1_Score: 0.4640\n"
          ]
        }
      ],
      "source": [
        "#get the metrics\n",
        "models_metrics(y_test,y_pred_lr)"
      ]
    },
    {
      "cell_type": "markdown",
      "source": [
        "<font color = 'white'> So here we are interested in our accuracy score and as we can see, it is almost predicted with 50% precision"
      ],
      "metadata": {
        "id": "H88mYSioKj-v"
      }
    },
    {
      "cell_type": "markdown",
      "source": [
        "<font color = 'white'>Now, let's try different tokenization method, with different models"
      ],
      "metadata": {
        "id": "NnIKhcvjsUO_"
      }
    },
    {
      "cell_type": "code",
      "source": [
        "#Import stop_word of french language\n",
        "french_stopwords = set(stopwords.words('french'))\n",
        "filtre_stopfr =  lambda text: [token for token in text if token.lower() not in french_stopwords]"
      ],
      "metadata": {
        "id": "Z7q-6A5a1sJ8"
      },
      "execution_count": 39,
      "outputs": []
    },
    {
      "cell_type": "code",
      "source": [
        "#Tokenize, then keep only non stop words\n",
        "filtre_stopfr(word_tokenize(X.loc[25], language=\"french\") )"
      ],
      "metadata": {
        "id": "KjuXmS-S21AZ",
        "colab": {
          "base_uri": "https://localhost:8080/"
        },
        "outputId": "d48044b2-5a55-4077-f175-6cf76effce25"
      },
      "execution_count": 40,
      "outputs": [
        {
          "output_type": "execute_result",
          "data": {
            "text/plain": [
              "[\"Qu'est-ce\",\n",
              " 'peut',\n",
              " 'bien',\n",
              " 'poser',\n",
              " 'problème',\n",
              " 'petits',\n",
              " 'livrets',\n",
              " 'pourtant',\n",
              " 'plutôt',\n",
              " 'attractifs',\n",
              " 'seuls',\n",
              " '23',\n",
              " ',',\n",
              " '4',\n",
              " '%',\n",
              " 'leurs',\n",
              " 'détenteurs',\n",
              " 'arrivent',\n",
              " 'bout',\n",
              " '?']"
            ]
          },
          "metadata": {},
          "execution_count": 40
        }
      ]
    },
    {
      "cell_type": "code",
      "source": [
        "#Spacy contains a lot of useful methods to clean data from text\n",
        "!python -m spacy download fr_core_news_sm\n",
        "sp = spacy.load('fr_core_news_sm')"
      ],
      "metadata": {
        "id": "ZkZtmVsrjwn1"
      },
      "execution_count": null,
      "outputs": []
    },
    {
      "cell_type": "code",
      "source": [
        "#Each sentence will be filtered from its space\n",
        "def spacy_tokenizer(sentence):\n",
        "  mytokens = sp(sentence)\n",
        "  mytokens = [ word for word in mytokens if (word.is_space == False)]\n",
        "  return mytokens"
      ],
      "metadata": {
        "id": "_RJ9mNd7kvg7"
      },
      "execution_count": null,
      "outputs": []
    },
    {
      "cell_type": "code",
      "source": [
        "spacy_tokenizer(X.loc[25])"
      ],
      "metadata": {
        "id": "Bh9anHhllASo"
      },
      "execution_count": null,
      "outputs": []
    },
    {
      "cell_type": "markdown",
      "source": [
        "<font color = 'white'> Here we will use the regular expression library"
      ],
      "metadata": {
        "id": "bdAgxxf9LgXR"
      }
    },
    {
      "cell_type": "code",
      "source": [
        "#With that method, we can remove useless information about difficulty\n",
        "sp_pattern = re.compile( \"\"\"[\\.\\!\\\"\\s\\?\\-\\,\\'\\%\\d\\:\\;\\_]+\"\"\", re.M).split\n",
        "sp_pattern(X.loc[25])"
      ],
      "metadata": {
        "id": "L3VUjVwh9HUw",
        "colab": {
          "base_uri": "https://localhost:8080/"
        },
        "outputId": "0d48c429-0a46-4a83-80b2-4fb178bd7876"
      },
      "execution_count": null,
      "outputs": [
        {
          "output_type": "execute_result",
          "data": {
            "text/plain": [
              "['Qu',\n",
              " 'est',\n",
              " 'ce',\n",
              " 'qui',\n",
              " 'peut',\n",
              " 'bien',\n",
              " 'poser',\n",
              " 'problème',\n",
              " 'dans',\n",
              " 'ces',\n",
              " 'petits',\n",
              " 'livrets',\n",
              " 'pourtant',\n",
              " 'plutôt',\n",
              " 'attractifs',\n",
              " 'pour',\n",
              " 'que',\n",
              " 'seuls',\n",
              " 'de',\n",
              " 'leurs',\n",
              " 'détenteurs',\n",
              " 'arrivent',\n",
              " 'au',\n",
              " 'bout',\n",
              " '']"
            ]
          },
          "metadata": {},
          "execution_count": 219
        }
      ]
    },
    {
      "cell_type": "code",
      "source": [
        "#Here we want to make it so that we never have twice the same word in a sentence\n",
        "def no_repeat_word (sentence):\n",
        "  word = sp_pattern(sentence)\n",
        "  word_list =[]\n",
        "  for element in word:\n",
        "    if (element not in word_list):\n",
        "      word_list.append(element)\n",
        "  return word_list"
      ],
      "metadata": {
        "id": "_mSsfuYSpSZB"
      },
      "execution_count": null,
      "outputs": []
    },
    {
      "cell_type": "code",
      "source": [
        "no_repeat_word(X.loc[23])"
      ],
      "metadata": {
        "colab": {
          "base_uri": "https://localhost:8080/"
        },
        "id": "dES8vH0iqL_y",
        "outputId": "bcdeb18d-d1ab-43a4-ed9d-8fa006099f6d"
      },
      "execution_count": null,
      "outputs": [
        {
          "output_type": "execute_result",
          "data": {
            "text/plain": [
              "['Je',\n",
              " 'ne',\n",
              " 't',\n",
              " 'ai',\n",
              " 'pas',\n",
              " 'téléphoné',\n",
              " 'parce',\n",
              " 'que',\n",
              " 'j',\n",
              " 'eu',\n",
              " 'trop',\n",
              " 'de',\n",
              " 'travail',\n",
              " '']"
            ]
          },
          "metadata": {},
          "execution_count": 162
        }
      ]
    },
    {
      "cell_type": "code",
      "source": [
        "#That function will remove the digits in our sentence\n",
        "def without_numbers (data):\n",
        "  data = re.sub(\" \\d+\", \" \", data)\n",
        "  data = sp_pattern(data)\n",
        "  return data\n",
        "without_numbers (X.loc[25])"
      ],
      "metadata": {
        "id": "SzjtTjJec2ks"
      },
      "execution_count": null,
      "outputs": []
    },
    {
      "cell_type": "markdown",
      "source": [
        "- It will appear that it doesn't improve the models but we rather lose a bit of accuracy"
      ],
      "metadata": {
        "id": "xXexITOcL7dW"
      }
    },
    {
      "cell_type": "code",
      "source": [
        "#Trying to combine our character filter with the stopwords filter\n",
        "# and it results that it's less effective with stopwords\n",
        "def clean_data (data): \n",
        "  cleaned_data = sp_pattern (data)\n",
        "  cleaned_data = filtre_stopfr(cleaned_data)\n",
        "  return cleaned_data"
      ],
      "metadata": {
        "id": "oefzvXeeRLWe"
      },
      "execution_count": null,
      "outputs": []
    },
    {
      "cell_type": "code",
      "source": [
        "clean_data(X.loc[25])"
      ],
      "metadata": {
        "id": "ujt2ShppRewG"
      },
      "execution_count": null,
      "outputs": []
    },
    {
      "cell_type": "markdown",
      "source": [
        "###<font color = 'white'>We're going to try this tokenization method with the different models"
      ],
      "metadata": {
        "id": "TknOazlA31zv"
      }
    },
    {
      "cell_type": "code",
      "source": [
        "tfidf = TfidfVectorizer(ngram_range=(1,1))"
      ],
      "metadata": {
        "id": "fjHqfnlZJEFc"
      },
      "execution_count": null,
      "outputs": []
    },
    {
      "cell_type": "code",
      "source": [
        "tfidf_vector = TfidfVectorizer(tokenizer= sp_pattern, ngram_range=(1,1))"
      ],
      "metadata": {
        "id": "G4B7ZjZh3hmw"
      },
      "execution_count": null,
      "outputs": []
    },
    {
      "cell_type": "code",
      "source": [
        "Randfor=RandomForestClassifier(n_estimators=500)"
      ],
      "metadata": {
        "id": "o_KBI27b5rt_"
      },
      "execution_count": null,
      "outputs": []
    },
    {
      "cell_type": "code",
      "source": [
        "# Create pipeline\n",
        "pipe = Pipeline([('vectorizer', tfidf_vector),\n",
        "                 ('classifier', Randfor)])\n",
        "\n",
        "# Fit model on training set\n",
        "pipe.fit(X_train, y_train)"
      ],
      "metadata": {
        "id": "-l9OaaNk55GP",
        "colab": {
          "base_uri": "https://localhost:8080/"
        },
        "outputId": "736f70e2-9574-4d40-9e24-7da529b7d737"
      },
      "execution_count": null,
      "outputs": [
        {
          "output_type": "execute_result",
          "data": {
            "text/plain": [
              "Pipeline(steps=[('vectorizer',\n",
              "                 TfidfVectorizer(tokenizer=<built-in method split of re.Pattern object at 0x7f155419fb90>)),\n",
              "                ('classifier', RandomForestClassifier(n_estimators=500))])"
            ]
          },
          "metadata": {},
          "execution_count": 202
        }
      ]
    },
    {
      "cell_type": "code",
      "source": [
        "y_pred_randfor=pipe.predict(X_test)"
      ],
      "metadata": {
        "id": "XYweNuH17Gm-"
      },
      "execution_count": null,
      "outputs": []
    },
    {
      "cell_type": "code",
      "source": [
        "#function to calculate metrics of the models\n",
        "def models_metrics (true, pred):\n",
        "  precision = precision_score(true, pred, average='weighted')\n",
        "  recall = recall_score(true, pred, average='weighted')\n",
        "  f1 = f1_score(true, pred, average='weighted')\n",
        "  print(f\"CONFUSION MATRIX:\\n{confusion_matrix(true, pred,)}\")\n",
        "  print(f\"ACCURACY SCORE:\\n{accuracy_score(true, pred):.4f}\")\n",
        "  print(f\"CLASSIFICATION REPORT:\\n\\tPrecision: {precision:.4f}\\n\\tRecall: {recall:.4f}\\n\\tF1_Score: {f1:.4f}\")"
      ],
      "metadata": {
        "id": "HAkzm3j27Q4x"
      },
      "execution_count": null,
      "outputs": []
    },
    {
      "cell_type": "code",
      "source": [
        "models_metrics(y_test, y_pred_randfor)"
      ],
      "metadata": {
        "id": "dGVmEeqO7Wer",
        "colab": {
          "base_uri": "https://localhost:8080/"
        },
        "outputId": "62f83a28-ed63-45b5-f673-78317f525970"
      },
      "execution_count": null,
      "outputs": [
        {
          "output_type": "stream",
          "name": "stdout",
          "text": [
            "CONFUSION MATRIX:\n",
            "[[120  20  11   9   1   0]\n",
            " [ 73  51  29   8   2   1]\n",
            " [ 25  34  59  28   7   7]\n",
            " [ 10  11  19  68  22  14]\n",
            " [ 16  10  18  55  52  22]\n",
            " [ 11  11  10  32  29  65]]\n",
            "ACCURACY SCORE:\n",
            "0.4323\n",
            "CLASSIFICATION REPORT:\n",
            "\tPrecision: 0.4419\n",
            "\tRecall: 0.4323\n",
            "\tF1_Score: 0.4239\n"
          ]
        }
      ]
    },
    {
      "cell_type": "markdown",
      "source": [
        "Now with the Logistic Regression"
      ],
      "metadata": {
        "id": "aiIxk4GV8Bxf"
      }
    },
    {
      "cell_type": "code",
      "source": [
        "#Define a model AND apply vectorizer\n",
        "LR = LogisticRegression(penalty='l2', dual=False, tol=0.001, C=1, fit_intercept=True, intercept_scaling=1, class_weight=None, random_state=None, solver='newton-cg', max_iter=1000, multi_class='auto', verbose=0, warm_start=False, n_jobs=None, l1_ratio=None)"
      ],
      "metadata": {
        "id": "RvAb_YmWSJky"
      },
      "execution_count": null,
      "outputs": []
    },
    {
      "cell_type": "code",
      "source": [
        "pipe_lr = Pipeline([('vectorizer', tfidf_vector),\n",
        "                 ('classifier', LR)])\n",
        "\n",
        "# Fit model on training set\n",
        "pipe_lr.fit(X_train, y_train)"
      ],
      "metadata": {
        "id": "5NxaB_os8Ewo",
        "colab": {
          "base_uri": "https://localhost:8080/"
        },
        "outputId": "3827c33a-def0-4efa-ed0d-172c9708a516"
      },
      "execution_count": null,
      "outputs": [
        {
          "output_type": "execute_result",
          "data": {
            "text/plain": [
              "Pipeline(steps=[('vectorizer',\n",
              "                 TfidfVectorizer(tokenizer=<built-in method split of re.Pattern object at 0x7f155419fb90>)),\n",
              "                ('classifier',\n",
              "                 LogisticRegression(C=1, max_iter=1000, solver='newton-cg',\n",
              "                                    tol=0.001))])"
            ]
          },
          "metadata": {},
          "execution_count": 207
        }
      ]
    },
    {
      "cell_type": "code",
      "source": [
        "y_pred_lr2=pipe_lr.predict(X_test)"
      ],
      "metadata": {
        "id": "jfyO1NQG8tVr"
      },
      "execution_count": null,
      "outputs": []
    },
    {
      "cell_type": "code",
      "source": [
        "models_metrics(y_test,y_pred_lr2)"
      ],
      "metadata": {
        "id": "vZ9pR3rI80vy",
        "colab": {
          "base_uri": "https://localhost:8080/"
        },
        "outputId": "57215f5e-e2f6-47a6-bf82-17c7ed68848d"
      },
      "execution_count": null,
      "outputs": [
        {
          "output_type": "stream",
          "name": "stdout",
          "text": [
            "CONFUSION MATRIX:\n",
            "[[100  33  15   7   3   3]\n",
            " [ 54  60  34   6   5   5]\n",
            " [  9  39  72  16   9  15]\n",
            " [  7   6  18  64  26  23]\n",
            " [  3   3  12  36  72  47]\n",
            " [  6   3  10  19  21  99]]\n",
            "ACCURACY SCORE:\n",
            "0.4865\n",
            "CLASSIFICATION REPORT:\n",
            "\tPrecision: 0.4845\n",
            "\tRecall: 0.4865\n",
            "\tF1_Score: 0.4828\n"
          ]
        }
      ]
    },
    {
      "cell_type": "markdown",
      "source": [
        "##Now with the SVC classifier"
      ],
      "metadata": {
        "id": "BHJ_rLb32Z6c"
      }
    },
    {
      "cell_type": "code",
      "source": [
        "svc = SVC(gamma=\"scale\", random_state=42,kernel = 'poly', coef0 = 0.5)"
      ],
      "metadata": {
        "id": "SXFbjihd2v3W"
      },
      "execution_count": null,
      "outputs": []
    },
    {
      "cell_type": "code",
      "source": [
        "pipe_svc = Pipeline([('vectorizer', tfidf_vector),\n",
        "                 ('classifier', svc)])\n",
        "\n",
        "# Fit model on training set\n",
        "pipe_svc.fit(X_train, y_train)"
      ],
      "metadata": {
        "colab": {
          "base_uri": "https://localhost:8080/"
        },
        "id": "tW5qjKkQ2sLg",
        "outputId": "a313a671-46ab-4942-caf8-dc18e9784b1c"
      },
      "execution_count": null,
      "outputs": [
        {
          "output_type": "execute_result",
          "data": {
            "text/plain": [
              "Pipeline(steps=[('vectorizer',\n",
              "                 TfidfVectorizer(tokenizer=<built-in method split of re.Pattern object at 0x7f155419fb90>)),\n",
              "                ('classifier', SVC(coef0=0.5, kernel='poly', random_state=42))])"
            ]
          },
          "metadata": {},
          "execution_count": 211
        }
      ]
    },
    {
      "cell_type": "code",
      "source": [
        "y_pred_svc=pipe_svc.predict(X_test)"
      ],
      "metadata": {
        "id": "OSkExnUT24Ep"
      },
      "execution_count": null,
      "outputs": []
    },
    {
      "cell_type": "code",
      "source": [
        "models_metrics(y_test,y_pred_svc)"
      ],
      "metadata": {
        "colab": {
          "base_uri": "https://localhost:8080/"
        },
        "id": "qzV5b_wR3TIC",
        "outputId": "4fe77cae-9135-4fc5-8c24-db54763a6be1"
      },
      "execution_count": null,
      "outputs": [
        {
          "output_type": "stream",
          "name": "stdout",
          "text": [
            "CONFUSION MATRIX:\n",
            "[[98 32 19  6  3  3]\n",
            " [44 70 33  7  5  5]\n",
            " [ 6 39 78 17 10 10]\n",
            " [ 4  9 17 69 22 23]\n",
            " [ 2  2 13 42 68 46]\n",
            " [ 3  6  9 18 23 99]]\n",
            "ACCURACY SCORE:\n",
            "0.5021\n",
            "CLASSIFICATION REPORT:\n",
            "\tPrecision: 0.5035\n",
            "\tRecall: 0.5021\n",
            "\tF1_Score: 0.5003\n"
          ]
        }
      ]
    },
    {
      "cell_type": "markdown",
      "source": [
        "#<font color = 'red'>Code to submit"
      ],
      "metadata": {
        "id": "3KxpOpbq3DGl"
      }
    },
    {
      "cell_type": "code",
      "source": [
        "df_pred_submit_svc = df_pred.copy()"
      ],
      "metadata": {
        "id": "W-maqMJKe4d6"
      },
      "execution_count": null,
      "outputs": []
    },
    {
      "cell_type": "code",
      "source": [
        "unlabelled_svc=pipe_svc.predict(df_pred_submit_svc['sentence'])\n",
        "unlabelled_svc"
      ],
      "metadata": {
        "colab": {
          "base_uri": "https://localhost:8080/"
        },
        "id": "dxRi2D5rfGuc",
        "outputId": "713ac1d1-9251-48ca-c2d3-c66d3966e07e"
      },
      "execution_count": null,
      "outputs": [
        {
          "output_type": "execute_result",
          "data": {
            "text/plain": [
              "array(['C2', 'B1', 'A1', ..., 'C2', 'C1', 'B1'], dtype=object)"
            ]
          },
          "metadata": {},
          "execution_count": 221
        }
      ]
    },
    {
      "cell_type": "code",
      "source": [
        "df_pred_submit_svc['difficulty']=unlabelled_svc #to modify when using another classification model\n",
        "df_pred_submit_svc =df_pred_submit_svc.drop('sentence',axis=1)"
      ],
      "metadata": {
        "id": "rWD-OfWTfcQv"
      },
      "execution_count": null,
      "outputs": []
    },
    {
      "cell_type": "code",
      "source": [
        "#for the submission part: \n",
        "df_pred_submit_svc.to_csv('teamzoom_submit_svc.csv', encoding ='utf-8-sig',index=False) \n",
        "files.download('teamzoom_submit_svc.csv')"
      ],
      "metadata": {
        "colab": {
          "base_uri": "https://localhost:8080/",
          "height": 17
        },
        "id": "JWgh9WWFfj1e",
        "outputId": "cffb48cc-d90a-405e-e98c-852708b51066"
      },
      "execution_count": null,
      "outputs": [
        {
          "output_type": "display_data",
          "data": {
            "text/plain": [
              "<IPython.core.display.Javascript object>"
            ],
            "application/javascript": [
              "\n",
              "    async function download(id, filename, size) {\n",
              "      if (!google.colab.kernel.accessAllowed) {\n",
              "        return;\n",
              "      }\n",
              "      const div = document.createElement('div');\n",
              "      const label = document.createElement('label');\n",
              "      label.textContent = `Downloading \"${filename}\": `;\n",
              "      div.appendChild(label);\n",
              "      const progress = document.createElement('progress');\n",
              "      progress.max = size;\n",
              "      div.appendChild(progress);\n",
              "      document.body.appendChild(div);\n",
              "\n",
              "      const buffers = [];\n",
              "      let downloaded = 0;\n",
              "\n",
              "      const channel = await google.colab.kernel.comms.open(id);\n",
              "      // Send a message to notify the kernel that we're ready.\n",
              "      channel.send({})\n",
              "\n",
              "      for await (const message of channel.messages) {\n",
              "        // Send a message to notify the kernel that we're ready.\n",
              "        channel.send({})\n",
              "        if (message.buffers) {\n",
              "          for (const buffer of message.buffers) {\n",
              "            buffers.push(buffer);\n",
              "            downloaded += buffer.byteLength;\n",
              "            progress.value = downloaded;\n",
              "          }\n",
              "        }\n",
              "      }\n",
              "      const blob = new Blob(buffers, {type: 'application/binary'});\n",
              "      const a = document.createElement('a');\n",
              "      a.href = window.URL.createObjectURL(blob);\n",
              "      a.download = filename;\n",
              "      div.appendChild(a);\n",
              "      a.click();\n",
              "      div.remove();\n",
              "    }\n",
              "  "
            ]
          },
          "metadata": {}
        },
        {
          "output_type": "display_data",
          "data": {
            "text/plain": [
              "<IPython.core.display.Javascript object>"
            ],
            "application/javascript": [
              "download(\"download_df7d6c12-e77b-4067-8199-e1d7b1035849\", \"teamzoom_submit_svc.csv\", 8507)"
            ]
          },
          "metadata": {}
        }
      ]
    }
  ],
  "metadata": {
    "accelerator": "GPU",
    "colab": {
      "provenance": []
    },
    "gpuClass": "standard",
    "kernelspec": {
      "display_name": "Python 3",
      "name": "python3"
    },
    "language_info": {
      "name": "python"
    }
  },
  "nbformat": 4,
  "nbformat_minor": 0
}